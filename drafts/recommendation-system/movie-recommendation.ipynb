{
 "cells": [
  {
   "cell_type": "markdown",
   "metadata": {},
   "source": [
    "# Pembuatan Sistem Rekomendasi untuk Film/Movie berdasarkan Metode Content-based dan Collaborative Filtering"
   ]
  },
  {
   "cell_type": "markdown",
   "metadata": {},
   "source": [
    "## Problem Statements\n",
    "\n",
    "Bagian ini menguraikan pertanyaan-pertanyaan kunci yang akan dijawab oleh proyek ini. Dengan berfokus pada implementasi content-based filtering dan collaborative filtering, pernyataan masalah ini akan memandu eksplorasi dan pengembangan sistem rekomendasi film.\n",
    "\n",
    "1. Bagaimana sistem rekomendasi film berbasis content-based filtering dapat diimplementasikan untuk secara efektif merekomendasikan film kepada pengguna berdasarkan preferensi mereka terhadap atribut film (genre)?\n",
    "\n",
    "2. Bagaimana sistem rekomendasi film berbasis collaborative filtering dapat diimplementasikan untuk secara akurat memprediksi preferensi pengguna dan merekomendasikan film berdasarkan pola perilaku pengguna lain yang serupa?"
   ]
  },
  {
   "cell_type": "markdown",
   "metadata": {},
   "source": [
    "## Data Understanding"
   ]
  },
  {
   "cell_type": "markdown",
   "metadata": {},
   "source": [
    "Sumber Movie and Rating dataset:\n",
    "\n",
    "https://www.kaggle.com/datasets/parasharmanas/movie-recommendation-system/data"
   ]
  },
  {
   "cell_type": "code",
   "execution_count": 81,
   "metadata": {},
   "outputs": [
    {
     "name": "stdout",
     "output_type": "stream",
     "text": [
      "Jumlah data movie:  62423\n",
      "Jumlah data rating:  162541\n"
     ]
    }
   ],
   "source": [
    "import pandas as pd\n",
    "\n",
    "movie = pd.read_csv('data/movies/movies.csv')\n",
    "rating = pd.read_csv('data/movies/ratings.csv')\n",
    "\n",
    "print('Jumlah data movie: ', len(movie.movieId.unique()))\n",
    "print('Jumlah data rating: ', len(rating.userId.unique()))\n"
   ]
  },
  {
   "cell_type": "markdown",
   "metadata": {},
   "source": [
    "### Cek Info dan Kelengkapan Dataset"
   ]
  },
  {
   "cell_type": "code",
   "execution_count": 91,
   "metadata": {},
   "outputs": [
    {
     "name": "stdout",
     "output_type": "stream",
     "text": [
      "<class 'pandas.core.frame.DataFrame'>\n",
      "RangeIndex: 62423 entries, 0 to 62422\n",
      "Data columns (total 3 columns):\n",
      " #   Column   Non-Null Count  Dtype \n",
      "---  ------   --------------  ----- \n",
      " 0   movieId  62423 non-null  int64 \n",
      " 1   title    62423 non-null  object\n",
      " 2   genres   62423 non-null  object\n",
      "dtypes: int64(1), object(2)\n",
      "memory usage: 1.4+ MB\n"
     ]
    }
   ],
   "source": [
    "movie.info()"
   ]
  },
  {
   "cell_type": "markdown",
   "metadata": {},
   "source": [
    "1. Dataset `movies.csv`:\n",
    "\n",
    "- `movieId`: Merupakan ID unik untuk setiap film.\n",
    "- `title`: Merupakan judul film, yang juga menyertakan tahun rilis film tersebut.\n",
    "- `genres`: Merupakan kategori genre dari film, yang dapat berupa beberapa genre yang dipisahkan oleh karakter pip '`|`'. Contoh: \"`Adventure|Animation|Children|Comedy|Fantasy`\". Dalam pra-pemrosesan, nilai ini diubah menjadi huruf kecil dan spasi dihilangkan (misalnya \"`adventure animation children comedy fantasy`\")."
   ]
  },
  {
   "cell_type": "code",
   "execution_count": 92,
   "metadata": {},
   "outputs": [
    {
     "name": "stdout",
     "output_type": "stream",
     "text": [
      "<class 'pandas.core.frame.DataFrame'>\n",
      "RangeIndex: 25000095 entries, 0 to 25000094\n",
      "Data columns (total 4 columns):\n",
      " #   Column     Dtype  \n",
      "---  ------     -----  \n",
      " 0   userId     int64  \n",
      " 1   movieId    int64  \n",
      " 2   rating     float64\n",
      " 3   timestamp  int64  \n",
      "dtypes: float64(1), int64(3)\n",
      "memory usage: 762.9 MB\n"
     ]
    }
   ],
   "source": [
    "rating.info()"
   ]
  },
  {
   "cell_type": "markdown",
   "metadata": {},
   "source": [
    "2. Dataset `ratings.csv`:\n",
    "\n",
    "- `userId`: Merupakan ID unik untuk setiap pengguna yang memberikan rating.\n",
    "- `movieId`: Merupakan ID film yang di-rating oleh pengguna.\n",
    "- `rating`: Merupakan nilai rating yang diberikan pengguna kepada film, dalam skala 0.5 hingga 5.0. Distribusi rating menunjukkan bahwa rating 4.0 adalah yang paling sering diberikan, diikuti oleh 3.0 dan 5.0.\n",
    "- `timestamp`: Merupakan waktu saat rating diberikan (dalam format Unix timestamp). Kolom ini dihilangkan dari analisis karena memang tidak dibutuhkan dalam proses pembentukan sistem rekomendasi pada proyek ini."
   ]
  },
  {
   "cell_type": "code",
   "execution_count": 5,
   "metadata": {},
   "outputs": [
    {
     "data": {
      "text/html": [
       "<div>\n",
       "<style scoped>\n",
       "    .dataframe tbody tr th:only-of-type {\n",
       "        vertical-align: middle;\n",
       "    }\n",
       "\n",
       "    .dataframe tbody tr th {\n",
       "        vertical-align: top;\n",
       "    }\n",
       "\n",
       "    .dataframe thead th {\n",
       "        text-align: right;\n",
       "    }\n",
       "</style>\n",
       "<table border=\"1\" class=\"dataframe\">\n",
       "  <thead>\n",
       "    <tr style=\"text-align: right;\">\n",
       "      <th></th>\n",
       "      <th>movieId</th>\n",
       "      <th>title</th>\n",
       "      <th>genres</th>\n",
       "    </tr>\n",
       "  </thead>\n",
       "  <tbody>\n",
       "    <tr>\n",
       "      <th>0</th>\n",
       "      <td>1</td>\n",
       "      <td>Toy Story (1995)</td>\n",
       "      <td>Adventure|Animation|Children|Comedy|Fantasy</td>\n",
       "    </tr>\n",
       "    <tr>\n",
       "      <th>1</th>\n",
       "      <td>2</td>\n",
       "      <td>Jumanji (1995)</td>\n",
       "      <td>Adventure|Children|Fantasy</td>\n",
       "    </tr>\n",
       "    <tr>\n",
       "      <th>2</th>\n",
       "      <td>3</td>\n",
       "      <td>Grumpier Old Men (1995)</td>\n",
       "      <td>Comedy|Romance</td>\n",
       "    </tr>\n",
       "    <tr>\n",
       "      <th>3</th>\n",
       "      <td>4</td>\n",
       "      <td>Waiting to Exhale (1995)</td>\n",
       "      <td>Comedy|Drama|Romance</td>\n",
       "    </tr>\n",
       "    <tr>\n",
       "      <th>4</th>\n",
       "      <td>5</td>\n",
       "      <td>Father of the Bride Part II (1995)</td>\n",
       "      <td>Comedy</td>\n",
       "    </tr>\n",
       "  </tbody>\n",
       "</table>\n",
       "</div>"
      ],
      "text/plain": [
       "   movieId                               title  \\\n",
       "0        1                    Toy Story (1995)   \n",
       "1        2                      Jumanji (1995)   \n",
       "2        3             Grumpier Old Men (1995)   \n",
       "3        4            Waiting to Exhale (1995)   \n",
       "4        5  Father of the Bride Part II (1995)   \n",
       "\n",
       "                                        genres  \n",
       "0  Adventure|Animation|Children|Comedy|Fantasy  \n",
       "1                   Adventure|Children|Fantasy  \n",
       "2                               Comedy|Romance  \n",
       "3                         Comedy|Drama|Romance  \n",
       "4                                       Comedy  "
      ]
     },
     "execution_count": 5,
     "metadata": {},
     "output_type": "execute_result"
    }
   ],
   "source": [
    "movie.head()"
   ]
  },
  {
   "cell_type": "code",
   "execution_count": 90,
   "metadata": {},
   "outputs": [
    {
     "data": {
      "text/html": [
       "<div>\n",
       "<style scoped>\n",
       "    .dataframe tbody tr th:only-of-type {\n",
       "        vertical-align: middle;\n",
       "    }\n",
       "\n",
       "    .dataframe tbody tr th {\n",
       "        vertical-align: top;\n",
       "    }\n",
       "\n",
       "    .dataframe thead th {\n",
       "        text-align: right;\n",
       "    }\n",
       "</style>\n",
       "<table border=\"1\" class=\"dataframe\">\n",
       "  <thead>\n",
       "    <tr style=\"text-align: right;\">\n",
       "      <th></th>\n",
       "      <th>userId</th>\n",
       "      <th>movieId</th>\n",
       "      <th>rating</th>\n",
       "      <th>timestamp</th>\n",
       "    </tr>\n",
       "  </thead>\n",
       "  <tbody>\n",
       "    <tr>\n",
       "      <th>0</th>\n",
       "      <td>1</td>\n",
       "      <td>296</td>\n",
       "      <td>5.0</td>\n",
       "      <td>1147880044</td>\n",
       "    </tr>\n",
       "    <tr>\n",
       "      <th>1</th>\n",
       "      <td>1</td>\n",
       "      <td>306</td>\n",
       "      <td>3.5</td>\n",
       "      <td>1147868817</td>\n",
       "    </tr>\n",
       "    <tr>\n",
       "      <th>2</th>\n",
       "      <td>1</td>\n",
       "      <td>307</td>\n",
       "      <td>5.0</td>\n",
       "      <td>1147868828</td>\n",
       "    </tr>\n",
       "    <tr>\n",
       "      <th>3</th>\n",
       "      <td>1</td>\n",
       "      <td>665</td>\n",
       "      <td>5.0</td>\n",
       "      <td>1147878820</td>\n",
       "    </tr>\n",
       "    <tr>\n",
       "      <th>4</th>\n",
       "      <td>1</td>\n",
       "      <td>899</td>\n",
       "      <td>3.5</td>\n",
       "      <td>1147868510</td>\n",
       "    </tr>\n",
       "  </tbody>\n",
       "</table>\n",
       "</div>"
      ],
      "text/plain": [
       "   userId  movieId  rating   timestamp\n",
       "0       1      296     5.0  1147880044\n",
       "1       1      306     3.5  1147868817\n",
       "2       1      307     5.0  1147868828\n",
       "3       1      665     5.0  1147878820\n",
       "4       1      899     3.5  1147868510"
      ]
     },
     "execution_count": 90,
     "metadata": {},
     "output_type": "execute_result"
    }
   ],
   "source": [
    "rating.head()"
   ]
  },
  {
   "cell_type": "code",
   "execution_count": 93,
   "metadata": {},
   "outputs": [
    {
     "data": {
      "text/html": [
       "<div>\n",
       "<style scoped>\n",
       "    .dataframe tbody tr th:only-of-type {\n",
       "        vertical-align: middle;\n",
       "    }\n",
       "\n",
       "    .dataframe tbody tr th {\n",
       "        vertical-align: top;\n",
       "    }\n",
       "\n",
       "    .dataframe thead th {\n",
       "        text-align: right;\n",
       "    }\n",
       "</style>\n",
       "<table border=\"1\" class=\"dataframe\">\n",
       "  <thead>\n",
       "    <tr style=\"text-align: right;\">\n",
       "      <th></th>\n",
       "      <th>movieId</th>\n",
       "    </tr>\n",
       "  </thead>\n",
       "  <tbody>\n",
       "    <tr>\n",
       "      <th>count</th>\n",
       "      <td>62423.000000</td>\n",
       "    </tr>\n",
       "    <tr>\n",
       "      <th>mean</th>\n",
       "      <td>122220.387646</td>\n",
       "    </tr>\n",
       "    <tr>\n",
       "      <th>std</th>\n",
       "      <td>63264.744844</td>\n",
       "    </tr>\n",
       "    <tr>\n",
       "      <th>min</th>\n",
       "      <td>1.000000</td>\n",
       "    </tr>\n",
       "    <tr>\n",
       "      <th>25%</th>\n",
       "      <td>82146.500000</td>\n",
       "    </tr>\n",
       "    <tr>\n",
       "      <th>50%</th>\n",
       "      <td>138022.000000</td>\n",
       "    </tr>\n",
       "    <tr>\n",
       "      <th>75%</th>\n",
       "      <td>173222.000000</td>\n",
       "    </tr>\n",
       "    <tr>\n",
       "      <th>max</th>\n",
       "      <td>209171.000000</td>\n",
       "    </tr>\n",
       "  </tbody>\n",
       "</table>\n",
       "</div>"
      ],
      "text/plain": [
       "             movieId\n",
       "count   62423.000000\n",
       "mean   122220.387646\n",
       "std     63264.744844\n",
       "min         1.000000\n",
       "25%     82146.500000\n",
       "50%    138022.000000\n",
       "75%    173222.000000\n",
       "max    209171.000000"
      ]
     },
     "execution_count": 93,
     "metadata": {},
     "output_type": "execute_result"
    }
   ],
   "source": [
    "movie.describe()"
   ]
  },
  {
   "cell_type": "code",
   "execution_count": 94,
   "metadata": {},
   "outputs": [
    {
     "data": {
      "text/html": [
       "<div>\n",
       "<style scoped>\n",
       "    .dataframe tbody tr th:only-of-type {\n",
       "        vertical-align: middle;\n",
       "    }\n",
       "\n",
       "    .dataframe tbody tr th {\n",
       "        vertical-align: top;\n",
       "    }\n",
       "\n",
       "    .dataframe thead th {\n",
       "        text-align: right;\n",
       "    }\n",
       "</style>\n",
       "<table border=\"1\" class=\"dataframe\">\n",
       "  <thead>\n",
       "    <tr style=\"text-align: right;\">\n",
       "      <th></th>\n",
       "      <th>userId</th>\n",
       "      <th>movieId</th>\n",
       "      <th>rating</th>\n",
       "      <th>timestamp</th>\n",
       "    </tr>\n",
       "  </thead>\n",
       "  <tbody>\n",
       "    <tr>\n",
       "      <th>count</th>\n",
       "      <td>2.500010e+07</td>\n",
       "      <td>2.500010e+07</td>\n",
       "      <td>2.500010e+07</td>\n",
       "      <td>2.500010e+07</td>\n",
       "    </tr>\n",
       "    <tr>\n",
       "      <th>mean</th>\n",
       "      <td>8.118928e+04</td>\n",
       "      <td>2.138798e+04</td>\n",
       "      <td>3.533854e+00</td>\n",
       "      <td>1.215601e+09</td>\n",
       "    </tr>\n",
       "    <tr>\n",
       "      <th>std</th>\n",
       "      <td>4.679172e+04</td>\n",
       "      <td>3.919886e+04</td>\n",
       "      <td>1.060744e+00</td>\n",
       "      <td>2.268758e+08</td>\n",
       "    </tr>\n",
       "    <tr>\n",
       "      <th>min</th>\n",
       "      <td>1.000000e+00</td>\n",
       "      <td>1.000000e+00</td>\n",
       "      <td>5.000000e-01</td>\n",
       "      <td>7.896520e+08</td>\n",
       "    </tr>\n",
       "    <tr>\n",
       "      <th>25%</th>\n",
       "      <td>4.051000e+04</td>\n",
       "      <td>1.196000e+03</td>\n",
       "      <td>3.000000e+00</td>\n",
       "      <td>1.011747e+09</td>\n",
       "    </tr>\n",
       "    <tr>\n",
       "      <th>50%</th>\n",
       "      <td>8.091400e+04</td>\n",
       "      <td>2.947000e+03</td>\n",
       "      <td>3.500000e+00</td>\n",
       "      <td>1.198868e+09</td>\n",
       "    </tr>\n",
       "    <tr>\n",
       "      <th>75%</th>\n",
       "      <td>1.215570e+05</td>\n",
       "      <td>8.623000e+03</td>\n",
       "      <td>4.000000e+00</td>\n",
       "      <td>1.447205e+09</td>\n",
       "    </tr>\n",
       "    <tr>\n",
       "      <th>max</th>\n",
       "      <td>1.625410e+05</td>\n",
       "      <td>2.091710e+05</td>\n",
       "      <td>5.000000e+00</td>\n",
       "      <td>1.574328e+09</td>\n",
       "    </tr>\n",
       "  </tbody>\n",
       "</table>\n",
       "</div>"
      ],
      "text/plain": [
       "             userId       movieId        rating     timestamp\n",
       "count  2.500010e+07  2.500010e+07  2.500010e+07  2.500010e+07\n",
       "mean   8.118928e+04  2.138798e+04  3.533854e+00  1.215601e+09\n",
       "std    4.679172e+04  3.919886e+04  1.060744e+00  2.268758e+08\n",
       "min    1.000000e+00  1.000000e+00  5.000000e-01  7.896520e+08\n",
       "25%    4.051000e+04  1.196000e+03  3.000000e+00  1.011747e+09\n",
       "50%    8.091400e+04  2.947000e+03  3.500000e+00  1.198868e+09\n",
       "75%    1.215570e+05  8.623000e+03  4.000000e+00  1.447205e+09\n",
       "max    1.625410e+05  2.091710e+05  5.000000e+00  1.574328e+09"
      ]
     },
     "execution_count": 94,
     "metadata": {},
     "output_type": "execute_result"
    }
   ],
   "source": [
    "rating.describe()"
   ]
  },
  {
   "cell_type": "markdown",
   "metadata": {},
   "source": [
    "Berdasarkan kedua tabel diatas, dapat dilihat bahwasannya hasilnya bagus tidak ada nilai missing yang tersembunyi seperti yang dikhawatirkan."
   ]
  },
  {
   "cell_type": "markdown",
   "metadata": {},
   "source": [
    "### Mengecek Outlier"
   ]
  },
  {
   "cell_type": "code",
   "execution_count": 86,
   "metadata": {},
   "outputs": [
    {
     "data": {
      "text/plain": [
       "<Axes: xlabel='rating'>"
      ]
     },
     "execution_count": 86,
     "metadata": {},
     "output_type": "execute_result"
    },
    {
     "data": {
      "image/png": "[encoded data removed]",
      "text/plain": [
       "<Figure size 640x480 with 1 Axes>"
      ]
     },
     "metadata": {},
     "output_type": "display_data"
    }
   ],
   "source": [
    "import seaborn as sns\n",
    "\n",
    "sns.boxplot(x='rating', data=rating)"
   ]
  },
  {
   "cell_type": "markdown",
   "metadata": {},
   "source": [
    "Jika kita melihat pada visualisasi, terdapat 2 titik yang dapat diamati berada kurang dari Q1, namun jika dilihat dari permasalahan yang ingin kita selesaikan yaitu sistem rekomendasi, dimana pengguna bisa saja memang memberikan rating yang rendah, maka hal ini dianggap wajar dan pada proyek ini tidak akan dianggap sebagai sebuah outlier."
   ]
  },
  {
   "cell_type": "markdown",
   "metadata": {},
   "source": [
    "### Univariate Analysis"
   ]
  },
  {
   "cell_type": "markdown",
   "metadata": {},
   "source": [
    "Masih mengikuti cara pada pembahasan sebelumnya, diketahui bahwa data yang bisa diobservasi adalah data rating, kali ini akan dilakukan plot histogram untuk mengetahui distribusi dari rating 0-5:"
   ]
  },
  {
   "cell_type": "code",
   "execution_count": 89,
   "metadata": {},
   "outputs": [
    {
     "data": {
      "text/plain": [
       "<Axes: xlabel='rating', ylabel='Count'>"
      ]
     },
     "execution_count": 89,
     "metadata": {},
     "output_type": "execute_result"
    },
    {
     "data": {
      "image/png": "[encoded data removed]",
      "text/plain": [
       "<Figure size 640x480 with 1 Axes>"
      ]
     },
     "metadata": {},
     "output_type": "display_data"
    }
   ],
   "source": [
    "sns.histplot(rating['rating'], bins=10, kde=True)"
   ]
  },
  {
   "cell_type": "markdown",
   "metadata": {},
   "source": [
    "Dari gambar diatas dapat diobservasi bahwasannya data memiliki konsentrasi pada rating 4, menunjukkan histogram yang <i>left-skewed</i>"
   ]
  },
  {
   "cell_type": "markdown",
   "metadata": {},
   "source": [
    "## Content-Based Filtering"
   ]
  },
  {
   "cell_type": "markdown",
   "metadata": {},
   "source": [
    "### Data Preparation"
   ]
  },
  {
   "cell_type": "markdown",
   "metadata": {},
   "source": [
    "#### Movie Dataset Preprocessing"
   ]
  },
  {
   "cell_type": "markdown",
   "metadata": {},
   "source": [
    "Kolom `genres` pada `DataFrame` `movie` diubah dengan menghapus karakter spasi `(' ')` dan mengubah semua teks menjadi huruf kecil `(.str.lower())`.\n",
    "- Alasan: Standardisasi format `genre` ini penting untuk memastikan konsistensi. Menghilangkan spasi dan mengubah ke huruf kecil menghindari duplikasi `genre` yang sebenarnya sama (misalnya, \"Action\" dan \"action\") dan memastikan bahwa TF-IDF Vectorizer dapat memprosesnya dengan benar sebagai entitas tunggal, sehingga perhitungan kesamaan menjadi lebih akurat."
   ]
  },
  {
   "cell_type": "code",
   "execution_count": 6,
   "metadata": {},
   "outputs": [],
   "source": [
    "movie['genres'] = movie['genres'].str.replace('|',' ',regex=False).str.lower()"
   ]
  },
  {
   "cell_type": "markdown",
   "metadata": {},
   "source": [
    "### Pemodelan"
   ]
  },
  {
   "cell_type": "markdown",
   "metadata": {},
   "source": [
    "#### Pembentukan Representasi Film"
   ]
  },
  {
   "cell_type": "markdown",
   "metadata": {},
   "source": [
    "Fitur genres dari setiap film diolah menggunakan `TfidfVectorizer()` untuk menghasilkan representasi numerik. Matriks TF-IDF yang dihasilkan memiliki dimensi 62423 film dengan 24 genre unik. Setiap baris dalam matriks ini mewakili sebuah film, dan nilai di setiap kolom menunjukkan relevansi genre tertentu bagi film tersebut."
   ]
  },
  {
   "cell_type": "code",
   "execution_count": 10,
   "metadata": {},
   "outputs": [
    {
     "data": {
      "text/plain": [
       "array(['action', 'adventure', 'animation', 'children', 'comedy', 'crime',\n",
       "       'documentary', 'drama', 'fantasy', 'fi', 'film', 'genres',\n",
       "       'horror', 'imax', 'listed', 'musical', 'mystery', 'no', 'noir',\n",
       "       'romance', 'sci', 'thriller', 'war', 'western'], dtype=object)"
      ]
     },
     "execution_count": 10,
     "metadata": {},
     "output_type": "execute_result"
    }
   ],
   "source": [
    "from sklearn.feature_extraction.text import TfidfVectorizer\n",
    "\n",
    "tf = TfidfVectorizer()\n",
    "\n",
    "tf.fit(movie['genres'])\n",
    "\n",
    "tf.get_feature_names_out()"
   ]
  },
  {
   "cell_type": "code",
   "execution_count": 11,
   "metadata": {},
   "outputs": [
    {
     "data": {
      "text/plain": [
       "(62423, 24)"
      ]
     },
     "execution_count": 11,
     "metadata": {},
     "output_type": "execute_result"
    }
   ],
   "source": [
    "tfidf_matrix = tf.transform(movie['genres'])\n",
    "\n",
    "tfidf_matrix.shape"
   ]
  },
  {
   "cell_type": "code",
   "execution_count": 12,
   "metadata": {},
   "outputs": [
    {
     "data": {
      "text/html": [
       "<div>\n",
       "<style scoped>\n",
       "    .dataframe tbody tr th:only-of-type {\n",
       "        vertical-align: middle;\n",
       "    }\n",
       "\n",
       "    .dataframe tbody tr th {\n",
       "        vertical-align: top;\n",
       "    }\n",
       "\n",
       "    .dataframe thead th {\n",
       "        text-align: right;\n",
       "    }\n",
       "</style>\n",
       "<table border=\"1\" class=\"dataframe\">\n",
       "  <thead>\n",
       "    <tr style=\"text-align: right;\">\n",
       "      <th></th>\n",
       "      <th>thriller</th>\n",
       "      <th>horror</th>\n",
       "      <th>mystery</th>\n",
       "      <th>imax</th>\n",
       "      <th>noir</th>\n",
       "      <th>musical</th>\n",
       "      <th>no</th>\n",
       "      <th>sci</th>\n",
       "      <th>fi</th>\n",
       "      <th>documentary</th>\n",
       "    </tr>\n",
       "    <tr>\n",
       "      <th>title</th>\n",
       "      <th></th>\n",
       "      <th></th>\n",
       "      <th></th>\n",
       "      <th></th>\n",
       "      <th></th>\n",
       "      <th></th>\n",
       "      <th></th>\n",
       "      <th></th>\n",
       "      <th></th>\n",
       "      <th></th>\n",
       "    </tr>\n",
       "  </thead>\n",
       "  <tbody>\n",
       "    <tr>\n",
       "      <th>City of God (Cidade de Deus) (2002)</th>\n",
       "      <td>0.429282</td>\n",
       "      <td>0.000000</td>\n",
       "      <td>0.000000</td>\n",
       "      <td>0.0</td>\n",
       "      <td>0.0</td>\n",
       "      <td>0.0</td>\n",
       "      <td>0.0</td>\n",
       "      <td>0.0</td>\n",
       "      <td>0.0</td>\n",
       "      <td>0.0</td>\n",
       "    </tr>\n",
       "    <tr>\n",
       "      <th>U Me Aur Hum (2008)</th>\n",
       "      <td>0.000000</td>\n",
       "      <td>0.000000</td>\n",
       "      <td>0.000000</td>\n",
       "      <td>0.0</td>\n",
       "      <td>0.0</td>\n",
       "      <td>0.0</td>\n",
       "      <td>0.0</td>\n",
       "      <td>0.0</td>\n",
       "      <td>0.0</td>\n",
       "      <td>0.0</td>\n",
       "    </tr>\n",
       "    <tr>\n",
       "      <th>Don't Torture a Duckling (Non si sevizia un paperino) (1972)</th>\n",
       "      <td>0.492405</td>\n",
       "      <td>0.553305</td>\n",
       "      <td>0.671856</td>\n",
       "      <td>0.0</td>\n",
       "      <td>0.0</td>\n",
       "      <td>0.0</td>\n",
       "      <td>0.0</td>\n",
       "      <td>0.0</td>\n",
       "      <td>0.0</td>\n",
       "      <td>0.0</td>\n",
       "    </tr>\n",
       "    <tr>\n",
       "      <th>Amityville Horror, The (2005)</th>\n",
       "      <td>0.664800</td>\n",
       "      <td>0.747022</td>\n",
       "      <td>0.000000</td>\n",
       "      <td>0.0</td>\n",
       "      <td>0.0</td>\n",
       "      <td>0.0</td>\n",
       "      <td>0.0</td>\n",
       "      <td>0.0</td>\n",
       "      <td>0.0</td>\n",
       "      <td>0.0</td>\n",
       "    </tr>\n",
       "    <tr>\n",
       "      <th>How to Stop Being a Loser (2011)</th>\n",
       "      <td>0.000000</td>\n",
       "      <td>0.000000</td>\n",
       "      <td>0.000000</td>\n",
       "      <td>0.0</td>\n",
       "      <td>0.0</td>\n",
       "      <td>0.0</td>\n",
       "      <td>0.0</td>\n",
       "      <td>0.0</td>\n",
       "      <td>0.0</td>\n",
       "      <td>0.0</td>\n",
       "    </tr>\n",
       "    <tr>\n",
       "      <th>Winter of Frozen Dreams (2009)</th>\n",
       "      <td>0.651798</td>\n",
       "      <td>0.000000</td>\n",
       "      <td>0.000000</td>\n",
       "      <td>0.0</td>\n",
       "      <td>0.0</td>\n",
       "      <td>0.0</td>\n",
       "      <td>0.0</td>\n",
       "      <td>0.0</td>\n",
       "      <td>0.0</td>\n",
       "      <td>0.0</td>\n",
       "    </tr>\n",
       "    <tr>\n",
       "      <th>Masquerade (1988)</th>\n",
       "      <td>0.503793</td>\n",
       "      <td>0.000000</td>\n",
       "      <td>0.687394</td>\n",
       "      <td>0.0</td>\n",
       "      <td>0.0</td>\n",
       "      <td>0.0</td>\n",
       "      <td>0.0</td>\n",
       "      <td>0.0</td>\n",
       "      <td>0.0</td>\n",
       "      <td>0.0</td>\n",
       "    </tr>\n",
       "    <tr>\n",
       "      <th>An Afternoon (2014)</th>\n",
       "      <td>0.000000</td>\n",
       "      <td>0.000000</td>\n",
       "      <td>0.000000</td>\n",
       "      <td>0.0</td>\n",
       "      <td>0.0</td>\n",
       "      <td>0.0</td>\n",
       "      <td>0.0</td>\n",
       "      <td>0.0</td>\n",
       "      <td>0.0</td>\n",
       "      <td>0.0</td>\n",
       "    </tr>\n",
       "    <tr>\n",
       "      <th>5 to 7 (2014)</th>\n",
       "      <td>0.000000</td>\n",
       "      <td>0.000000</td>\n",
       "      <td>0.000000</td>\n",
       "      <td>0.0</td>\n",
       "      <td>0.0</td>\n",
       "      <td>0.0</td>\n",
       "      <td>0.0</td>\n",
       "      <td>0.0</td>\n",
       "      <td>0.0</td>\n",
       "      <td>0.0</td>\n",
       "    </tr>\n",
       "    <tr>\n",
       "      <th>Fish Don't Blink (2002)</th>\n",
       "      <td>0.000000</td>\n",
       "      <td>0.000000</td>\n",
       "      <td>0.000000</td>\n",
       "      <td>0.0</td>\n",
       "      <td>0.0</td>\n",
       "      <td>0.0</td>\n",
       "      <td>0.0</td>\n",
       "      <td>0.0</td>\n",
       "      <td>0.0</td>\n",
       "      <td>0.0</td>\n",
       "    </tr>\n",
       "  </tbody>\n",
       "</table>\n",
       "</div>"
      ],
      "text/plain": [
       "                                                    thriller    horror  \\\n",
       "title                                                                    \n",
       "City of God (Cidade de Deus) (2002)                 0.429282  0.000000   \n",
       "U Me Aur Hum (2008)                                 0.000000  0.000000   \n",
       "Don't Torture a Duckling (Non si sevizia un pap...  0.492405  0.553305   \n",
       "Amityville Horror, The (2005)                       0.664800  0.747022   \n",
       "How to Stop Being a Loser (2011)                    0.000000  0.000000   \n",
       "Winter of Frozen Dreams (2009)                      0.651798  0.000000   \n",
       "Masquerade (1988)                                   0.503793  0.000000   \n",
       "An Afternoon (2014)                                 0.000000  0.000000   \n",
       "5 to 7 (2014)                                       0.000000  0.000000   \n",
       "Fish Don't Blink (2002)                             0.000000  0.000000   \n",
       "\n",
       "                                                     mystery  imax  noir  \\\n",
       "title                                                                      \n",
       "City of God (Cidade de Deus) (2002)                 0.000000   0.0   0.0   \n",
       "U Me Aur Hum (2008)                                 0.000000   0.0   0.0   \n",
       "Don't Torture a Duckling (Non si sevizia un pap...  0.671856   0.0   0.0   \n",
       "Amityville Horror, The (2005)                       0.000000   0.0   0.0   \n",
       "How to Stop Being a Loser (2011)                    0.000000   0.0   0.0   \n",
       "Winter of Frozen Dreams (2009)                      0.000000   0.0   0.0   \n",
       "Masquerade (1988)                                   0.687394   0.0   0.0   \n",
       "An Afternoon (2014)                                 0.000000   0.0   0.0   \n",
       "5 to 7 (2014)                                       0.000000   0.0   0.0   \n",
       "Fish Don't Blink (2002)                             0.000000   0.0   0.0   \n",
       "\n",
       "                                                    musical   no  sci   fi  \\\n",
       "title                                                                        \n",
       "City of God (Cidade de Deus) (2002)                     0.0  0.0  0.0  0.0   \n",
       "U Me Aur Hum (2008)                                     0.0  0.0  0.0  0.0   \n",
       "Don't Torture a Duckling (Non si sevizia un pap...      0.0  0.0  0.0  0.0   \n",
       "Amityville Horror, The (2005)                           0.0  0.0  0.0  0.0   \n",
       "How to Stop Being a Loser (2011)                        0.0  0.0  0.0  0.0   \n",
       "Winter of Frozen Dreams (2009)                          0.0  0.0  0.0  0.0   \n",
       "Masquerade (1988)                                       0.0  0.0  0.0  0.0   \n",
       "An Afternoon (2014)                                     0.0  0.0  0.0  0.0   \n",
       "5 to 7 (2014)                                           0.0  0.0  0.0  0.0   \n",
       "Fish Don't Blink (2002)                                 0.0  0.0  0.0  0.0   \n",
       "\n",
       "                                                    documentary  \n",
       "title                                                            \n",
       "City of God (Cidade de Deus) (2002)                         0.0  \n",
       "U Me Aur Hum (2008)                                         0.0  \n",
       "Don't Torture a Duckling (Non si sevizia un pap...          0.0  \n",
       "Amityville Horror, The (2005)                               0.0  \n",
       "How to Stop Being a Loser (2011)                            0.0  \n",
       "Winter of Frozen Dreams (2009)                              0.0  \n",
       "Masquerade (1988)                                           0.0  \n",
       "An Afternoon (2014)                                         0.0  \n",
       "5 to 7 (2014)                                               0.0  \n",
       "Fish Don't Blink (2002)                                     0.0  "
      ]
     },
     "execution_count": 12,
     "metadata": {},
     "output_type": "execute_result"
    }
   ],
   "source": [
    "pd.DataFrame(\n",
    "    tfidf_matrix.todense(),\n",
    "    columns=tf.get_feature_names_out(),\n",
    "    index=movie['title']\n",
    ").sample(10, axis=1).sample(10, axis=0)"
   ]
  },
  {
   "cell_type": "markdown",
   "metadata": {},
   "source": [
    "#### Perhitungan Kesamaan"
   ]
  },
  {
   "cell_type": "markdown",
   "metadata": {},
   "source": [
    "**Perhitungan Kesamaan**: Setelah representasi TF-IDF terbentuk, cosine_similarity dihitung antara semua film. Ini menghasilkan matriks kesamaan (cosine similarity matrix) dengan dimensi 62423x62423, di mana setiap sel menunjukkan tingkat kemiripan genre antara dua film."
   ]
  },
  {
   "cell_type": "code",
   "execution_count": 13,
   "metadata": {},
   "outputs": [
    {
     "data": {
      "text/plain": [
       "array([[1.        , 0.82728864, 0.16620386, ..., 0.21483032, 0.        ,\n",
       "        0.31776868],\n",
       "       [0.82728864, 1.        , 0.        , ..., 0.        , 0.        ,\n",
       "        0.38410859],\n",
       "       [0.16620386, 0.        , 1.        , ..., 0.46294686, 0.        ,\n",
       "        0.        ],\n",
       "       ...,\n",
       "       [0.21483032, 0.        , 0.46294686, ..., 1.        , 0.        ,\n",
       "        0.2297483 ],\n",
       "       [0.        , 0.        , 0.        , ..., 0.        , 1.        ,\n",
       "        0.        ],\n",
       "       [0.31776868, 0.38410859, 0.        , ..., 0.2297483 , 0.        ,\n",
       "        1.        ]])"
      ]
     },
     "execution_count": 13,
     "metadata": {},
     "output_type": "execute_result"
    }
   ],
   "source": [
    "from sklearn.metrics.pairwise import cosine_similarity\n",
    "\n",
    "cosine_sim = cosine_similarity(tfidf_matrix)\n",
    "cosine_sim"
   ]
  },
  {
   "cell_type": "code",
   "execution_count": 14,
   "metadata": {},
   "outputs": [
    {
     "name": "stdout",
     "output_type": "stream",
     "text": [
      "Shape:  (62423, 62423)\n"
     ]
    },
    {
     "data": {
      "text/html": [
       "<div>\n",
       "<style scoped>\n",
       "    .dataframe tbody tr th:only-of-type {\n",
       "        vertical-align: middle;\n",
       "    }\n",
       "\n",
       "    .dataframe tbody tr th {\n",
       "        vertical-align: top;\n",
       "    }\n",
       "\n",
       "    .dataframe thead th {\n",
       "        text-align: right;\n",
       "    }\n",
       "</style>\n",
       "<table border=\"1\" class=\"dataframe\">\n",
       "  <thead>\n",
       "    <tr style=\"text-align: right;\">\n",
       "      <th>title</th>\n",
       "      <th>The Irrefutable Truth About Demons (2000)</th>\n",
       "      <th>Who Is Cletis Tout? (2001)</th>\n",
       "      <th>Wall Street (1987)</th>\n",
       "      <th>Shotgun Stories (2007)</th>\n",
       "      <th>Başka Semtin Çocukları (2008)</th>\n",
       "    </tr>\n",
       "    <tr>\n",
       "      <th>title</th>\n",
       "      <th></th>\n",
       "      <th></th>\n",
       "      <th></th>\n",
       "      <th></th>\n",
       "      <th></th>\n",
       "    </tr>\n",
       "  </thead>\n",
       "  <tbody>\n",
       "    <tr>\n",
       "      <th>Spotswood (1992)</th>\n",
       "      <td>0.0</td>\n",
       "      <td>1.0</td>\n",
       "      <td>0.000000</td>\n",
       "      <td>0.000000</td>\n",
       "      <td>0.000000</td>\n",
       "    </tr>\n",
       "    <tr>\n",
       "      <th>Colder Kind of Death, A (2001)</th>\n",
       "      <td>0.0</td>\n",
       "      <td>0.0</td>\n",
       "      <td>0.334033</td>\n",
       "      <td>0.179158</td>\n",
       "      <td>0.334033</td>\n",
       "    </tr>\n",
       "    <tr>\n",
       "      <th>Scooby-Doo! and the Gourmet Ghost (2018)</th>\n",
       "      <td>0.0</td>\n",
       "      <td>0.0</td>\n",
       "      <td>0.000000</td>\n",
       "      <td>0.000000</td>\n",
       "      <td>0.000000</td>\n",
       "    </tr>\n",
       "    <tr>\n",
       "      <th>Pan (2015)</th>\n",
       "      <td>0.0</td>\n",
       "      <td>0.0</td>\n",
       "      <td>0.000000</td>\n",
       "      <td>0.000000</td>\n",
       "      <td>0.000000</td>\n",
       "    </tr>\n",
       "    <tr>\n",
       "      <th>Hagbard and Signe (1967)</th>\n",
       "      <td>0.0</td>\n",
       "      <td>0.0</td>\n",
       "      <td>1.000000</td>\n",
       "      <td>0.536348</td>\n",
       "      <td>1.000000</td>\n",
       "    </tr>\n",
       "    <tr>\n",
       "      <th>Icebreaker (2000)</th>\n",
       "      <td>0.0</td>\n",
       "      <td>0.0</td>\n",
       "      <td>0.000000</td>\n",
       "      <td>0.440636</td>\n",
       "      <td>0.000000</td>\n",
       "    </tr>\n",
       "    <tr>\n",
       "      <th>La Bande du drugstore (2002)</th>\n",
       "      <td>0.0</td>\n",
       "      <td>0.0</td>\n",
       "      <td>0.521986</td>\n",
       "      <td>0.279966</td>\n",
       "      <td>0.521986</td>\n",
       "    </tr>\n",
       "    <tr>\n",
       "      <th>The Siege of Firebase Gloria (1989)</th>\n",
       "      <td>0.0</td>\n",
       "      <td>0.0</td>\n",
       "      <td>0.325614</td>\n",
       "      <td>0.174642</td>\n",
       "      <td>0.325614</td>\n",
       "    </tr>\n",
       "    <tr>\n",
       "      <th>Red Shoes, The (1948)</th>\n",
       "      <td>0.0</td>\n",
       "      <td>0.0</td>\n",
       "      <td>0.252744</td>\n",
       "      <td>0.135558</td>\n",
       "      <td>0.252744</td>\n",
       "    </tr>\n",
       "    <tr>\n",
       "      <th>Nil By Mouth (1997)</th>\n",
       "      <td>0.0</td>\n",
       "      <td>0.0</td>\n",
       "      <td>1.000000</td>\n",
       "      <td>0.536348</td>\n",
       "      <td>1.000000</td>\n",
       "    </tr>\n",
       "  </tbody>\n",
       "</table>\n",
       "</div>"
      ],
      "text/plain": [
       "title                                     The Irrefutable Truth About Demons (2000)  \\\n",
       "title                                                                                 \n",
       "Spotswood (1992)                                                                0.0   \n",
       "Colder Kind of Death, A (2001)                                                  0.0   \n",
       "Scooby-Doo! and the Gourmet Ghost (2018)                                        0.0   \n",
       "Pan (2015)                                                                      0.0   \n",
       "Hagbard and Signe (1967)                                                        0.0   \n",
       "Icebreaker (2000)                                                               0.0   \n",
       "La Bande du drugstore (2002)                                                    0.0   \n",
       "The Siege of Firebase Gloria (1989)                                             0.0   \n",
       "Red Shoes, The (1948)                                                           0.0   \n",
       "Nil By Mouth (1997)                                                             0.0   \n",
       "\n",
       "title                                     Who Is Cletis Tout? (2001)  \\\n",
       "title                                                                  \n",
       "Spotswood (1992)                                                 1.0   \n",
       "Colder Kind of Death, A (2001)                                   0.0   \n",
       "Scooby-Doo! and the Gourmet Ghost (2018)                         0.0   \n",
       "Pan (2015)                                                       0.0   \n",
       "Hagbard and Signe (1967)                                         0.0   \n",
       "Icebreaker (2000)                                                0.0   \n",
       "La Bande du drugstore (2002)                                     0.0   \n",
       "The Siege of Firebase Gloria (1989)                              0.0   \n",
       "Red Shoes, The (1948)                                            0.0   \n",
       "Nil By Mouth (1997)                                              0.0   \n",
       "\n",
       "title                                     Wall Street (1987)  \\\n",
       "title                                                          \n",
       "Spotswood (1992)                                    0.000000   \n",
       "Colder Kind of Death, A (2001)                      0.334033   \n",
       "Scooby-Doo! and the Gourmet Ghost (2018)            0.000000   \n",
       "Pan (2015)                                          0.000000   \n",
       "Hagbard and Signe (1967)                            1.000000   \n",
       "Icebreaker (2000)                                   0.000000   \n",
       "La Bande du drugstore (2002)                        0.521986   \n",
       "The Siege of Firebase Gloria (1989)                 0.325614   \n",
       "Red Shoes, The (1948)                               0.252744   \n",
       "Nil By Mouth (1997)                                 1.000000   \n",
       "\n",
       "title                                     Shotgun Stories (2007)  \\\n",
       "title                                                              \n",
       "Spotswood (1992)                                        0.000000   \n",
       "Colder Kind of Death, A (2001)                          0.179158   \n",
       "Scooby-Doo! and the Gourmet Ghost (2018)                0.000000   \n",
       "Pan (2015)                                              0.000000   \n",
       "Hagbard and Signe (1967)                                0.536348   \n",
       "Icebreaker (2000)                                       0.440636   \n",
       "La Bande du drugstore (2002)                            0.279966   \n",
       "The Siege of Firebase Gloria (1989)                     0.174642   \n",
       "Red Shoes, The (1948)                                   0.135558   \n",
       "Nil By Mouth (1997)                                     0.536348   \n",
       "\n",
       "title                                     Başka Semtin Çocukları (2008)  \n",
       "title                                                                    \n",
       "Spotswood (1992)                                               0.000000  \n",
       "Colder Kind of Death, A (2001)                                 0.334033  \n",
       "Scooby-Doo! and the Gourmet Ghost (2018)                       0.000000  \n",
       "Pan (2015)                                                     0.000000  \n",
       "Hagbard and Signe (1967)                                       1.000000  \n",
       "Icebreaker (2000)                                              0.000000  \n",
       "La Bande du drugstore (2002)                                   0.521986  \n",
       "The Siege of Firebase Gloria (1989)                            0.325614  \n",
       "Red Shoes, The (1948)                                          0.252744  \n",
       "Nil By Mouth (1997)                                            1.000000  "
      ]
     },
     "execution_count": 14,
     "metadata": {},
     "output_type": "execute_result"
    }
   ],
   "source": [
    "cosine_sim_df = pd.DataFrame(\n",
    "    cosine_sim,\n",
    "    columns=movie['title'],\n",
    "    index=movie['title']\n",
    ")\n",
    "\n",
    "print('Shape: ', cosine_sim_df.shape)\n",
    "# melihat similarity matrix pada setiap resto\n",
    "cosine_sim_df.sample(5, axis=1).sample(10, axis=0)"
   ]
  },
  {
   "cell_type": "markdown",
   "metadata": {},
   "source": [
    "#### Mekanisme Rekomendasi (Top-N Recommendation)"
   ]
  },
  {
   "cell_type": "markdown",
   "metadata": {},
   "source": [
    "Fungsi `movie_recommendations` dibuat untuk memberikan rekomendasi. Fungsi ini mengambil judul film (`title`), matriks kesamaan (`similarity_data`), `DataFrame` item (`items`), dan jumlah rekomendasi yang diinginkan (`k`, default 10) sebagai parameter. Fungsi ini mencari film dengan kesamaan terbesar pada indeks matriks kesamaan. Hasilnya adalah Top-N rekomendasi film yang memiliki genre paling mirip dengan film yang dipilih."
   ]
  },
  {
   "cell_type": "code",
   "execution_count": 15,
   "metadata": {},
   "outputs": [],
   "source": [
    "def movie_recommendations(title, similarity_data=cosine_sim_df, items=movie[['title','genres']], k=10):\n",
    "    \"\"\"\n",
    "    Rekomendasi resto berdasarkan kemiripan dataframe\n",
    "\n",
    "    Parameter:\n",
    "    nama_resto : tipe data string (str)\n",
    "                Nama Restoran (index kemiripan dataframe)\n",
    "    similarity_data : tipe data pd.DataFrame (object)\n",
    "                      Kesamaan dataframe, simetrik, dengan resto sebagai \n",
    "                      indeks dan kolom\n",
    "    items : tipe data pd.DataFrame (object)\n",
    "            Mengandung kedua nama dan fitur lainnya yang digunakan untuk mendefinisikan kemiripan\n",
    "    k : tipe data integer (int)\n",
    "        Banyaknya jumlah rekomendasi yang diberikan\n",
    "    ---\n",
    "\n",
    "    Pada index ini, kita mengambil k dengan nilai similarity terbesar\n",
    "    pada index matrix yang diberikan (i)\n",
    "\n",
    "    \"\"\"\n",
    "\n",
    "    # mengambil data dengan menggunakan argpartition untuk melakukan partisi secara tidak langsung sepanjang sumbu yang diberikan\n",
    "    # df diubah menjadi numpy\n",
    "    # range (start, stop, step)\n",
    "\n",
    "    index = similarity_data.loc[:, title].to_numpy().argpartition(\n",
    "        range(-1, -k, -1)\n",
    "    )\n",
    "\n",
    "    # mengambil data dengan similarity terbesar dari index yang ada\n",
    "    closest = similarity_data.columns[index[-1:-(k+2):-1]]\n",
    "\n",
    "    # drop name_resto agar nama resto yang dicari tidak muncul dalam daftar rekomendasi\n",
    "    closest = closest.drop(title, errors='ignore')\n",
    "\n",
    "    return pd.DataFrame(closest).merge(items).head(k)\n"
   ]
  },
  {
   "cell_type": "markdown",
   "metadata": {},
   "source": [
    "#### Output (Top-10 Recommendation)"
   ]
  },
  {
   "cell_type": "code",
   "execution_count": 58,
   "metadata": {},
   "outputs": [
    {
     "name": "stdout",
     "output_type": "stream",
     "text": [
      "Yolanda and the Thief (1945) : fantasy musical romance\n"
     ]
    },
    {
     "data": {
      "text/html": [
       "<div>\n",
       "<style scoped>\n",
       "    .dataframe tbody tr th:only-of-type {\n",
       "        vertical-align: middle;\n",
       "    }\n",
       "\n",
       "    .dataframe tbody tr th {\n",
       "        vertical-align: top;\n",
       "    }\n",
       "\n",
       "    .dataframe thead th {\n",
       "        text-align: right;\n",
       "    }\n",
       "</style>\n",
       "<table border=\"1\" class=\"dataframe\">\n",
       "  <thead>\n",
       "    <tr style=\"text-align: right;\">\n",
       "      <th></th>\n",
       "      <th>title</th>\n",
       "      <th>genres</th>\n",
       "    </tr>\n",
       "  </thead>\n",
       "  <tbody>\n",
       "    <tr>\n",
       "      <th>0</th>\n",
       "      <td>Xanadu (1980)</td>\n",
       "      <td>fantasy musical romance</td>\n",
       "    </tr>\n",
       "    <tr>\n",
       "      <th>1</th>\n",
       "      <td>Brigadoon (1954)</td>\n",
       "      <td>fantasy musical romance</td>\n",
       "    </tr>\n",
       "    <tr>\n",
       "      <th>2</th>\n",
       "      <td>Paheli (2005)</td>\n",
       "      <td>drama fantasy musical romance</td>\n",
       "    </tr>\n",
       "    <tr>\n",
       "      <th>3</th>\n",
       "      <td>Red Shoes, The (1948)</td>\n",
       "      <td>drama fantasy musical romance</td>\n",
       "    </tr>\n",
       "    <tr>\n",
       "      <th>4</th>\n",
       "      <td>Cenerentola '80 (1984)</td>\n",
       "      <td>drama fantasy musical romance</td>\n",
       "    </tr>\n",
       "    <tr>\n",
       "      <th>5</th>\n",
       "      <td>Across the Universe (2007)</td>\n",
       "      <td>drama fantasy musical romance</td>\n",
       "    </tr>\n",
       "    <tr>\n",
       "      <th>6</th>\n",
       "      <td>That Lady in Ermine (1948)</td>\n",
       "      <td>comedy fantasy musical romance</td>\n",
       "    </tr>\n",
       "    <tr>\n",
       "      <th>7</th>\n",
       "      <td>Magic Flute, The (Trollflöjten) (1975)</td>\n",
       "      <td>comedy fantasy musical romance</td>\n",
       "    </tr>\n",
       "    <tr>\n",
       "      <th>8</th>\n",
       "      <td>Princess Raccoon (Operetta tanuki goten) (2005)</td>\n",
       "      <td>comedy fantasy musical romance</td>\n",
       "    </tr>\n",
       "    <tr>\n",
       "      <th>9</th>\n",
       "      <td>Aladin (2009)</td>\n",
       "      <td>comedy fantasy musical romance</td>\n",
       "    </tr>\n",
       "  </tbody>\n",
       "</table>\n",
       "</div>"
      ],
      "text/plain": [
       "                                             title  \\\n",
       "0                                    Xanadu (1980)   \n",
       "1                                 Brigadoon (1954)   \n",
       "2                                    Paheli (2005)   \n",
       "3                            Red Shoes, The (1948)   \n",
       "4                           Cenerentola '80 (1984)   \n",
       "5                       Across the Universe (2007)   \n",
       "6                       That Lady in Ermine (1948)   \n",
       "7           Magic Flute, The (Trollflöjten) (1975)   \n",
       "8  Princess Raccoon (Operetta tanuki goten) (2005)   \n",
       "9                                    Aladin (2009)   \n",
       "\n",
       "                           genres  \n",
       "0         fantasy musical romance  \n",
       "1         fantasy musical romance  \n",
       "2   drama fantasy musical romance  \n",
       "3   drama fantasy musical romance  \n",
       "4   drama fantasy musical romance  \n",
       "5   drama fantasy musical romance  \n",
       "6  comedy fantasy musical romance  \n",
       "7  comedy fantasy musical romance  \n",
       "8  comedy fantasy musical romance  \n",
       "9  comedy fantasy musical romance  "
      ]
     },
     "execution_count": 58,
     "metadata": {},
     "output_type": "execute_result"
    }
   ],
   "source": [
    "movie_name = 'Yolanda and the Thief (1945)'\n",
    "\n",
    "print(movie_name, ':',movie[movie.title.eq(\n",
    "    movie_name\n",
    ")].genres.values[0])\n",
    "\n",
    "movie_recommendations(movie_name)"
   ]
  },
  {
   "cell_type": "markdown",
   "metadata": {},
   "source": [
    "#### Evaluasi Output"
   ]
  },
  {
   "cell_type": "markdown",
   "metadata": {},
   "source": [
    "Berdasarkan contoh rekomendasi yang dihasilkan untuk film `'Yolanda and the Thief (1945)' (genre: 'fantasy musical romance')`, sistem merekomendasikan film-film lain yang secara konsisten memiliki genre yang sama atau sangat mirip. Ini menunjukkan bahwa:\n",
    "\n",
    "- Konsistensi Genre: Rekomendasi yang dihasilkan sangat relevan dari segi genre. Misalnya, film-film seperti \"Xanadu (1980)\", \"Brigadoon (1954)\", dan \"Paheli (2005)\" semuanya mengandung elemen fantasy, musical, atau romance.\n",
    "- Kemampuan Menemukan Item Serupa: Model ini berhasil mengidentifikasi dan merekomendasikan film-film yang memiliki karakteristik konten serupa dengan film yang menjadi input, yang merupakan tujuan utama dari content-based filtering.\n",
    "\n",
    "Meskipun evaluasi ini lebih kualitatif, konsistensi output berdasarkan genre mengindikasikan bahwa content-based filtering berhasil diimplementasikan untuk menyediakan rekomendasi yang relevan secara kontekstual. Untuk evaluasi yang lebih formal, pengujian A/B atau survei pengguna akan diperlukan untuk mengukur kepuasan dan tingkat relevansi secara lebih objektif."
   ]
  },
  {
   "cell_type": "markdown",
   "metadata": {},
   "source": [
    "## Colaborative Filtering"
   ]
  },
  {
   "cell_type": "markdown",
   "metadata": {},
   "source": [
    "### Data Preparation"
   ]
  },
  {
   "cell_type": "markdown",
   "metadata": {},
   "source": [
    "#### Rating Dataset Preprocessing"
   ]
  },
  {
   "cell_type": "code",
   "execution_count": 23,
   "metadata": {},
   "outputs": [
    {
     "data": {
      "text/html": [
       "<div>\n",
       "<style scoped>\n",
       "    .dataframe tbody tr th:only-of-type {\n",
       "        vertical-align: middle;\n",
       "    }\n",
       "\n",
       "    .dataframe tbody tr th {\n",
       "        vertical-align: top;\n",
       "    }\n",
       "\n",
       "    .dataframe thead th {\n",
       "        text-align: right;\n",
       "    }\n",
       "</style>\n",
       "<table border=\"1\" class=\"dataframe\">\n",
       "  <thead>\n",
       "    <tr style=\"text-align: right;\">\n",
       "      <th></th>\n",
       "      <th>userId</th>\n",
       "      <th>movieId</th>\n",
       "      <th>rating</th>\n",
       "      <th>timestamp</th>\n",
       "    </tr>\n",
       "  </thead>\n",
       "  <tbody>\n",
       "    <tr>\n",
       "      <th>0</th>\n",
       "      <td>1</td>\n",
       "      <td>296</td>\n",
       "      <td>5.0</td>\n",
       "      <td>1147880044</td>\n",
       "    </tr>\n",
       "    <tr>\n",
       "      <th>1</th>\n",
       "      <td>1</td>\n",
       "      <td>306</td>\n",
       "      <td>3.5</td>\n",
       "      <td>1147868817</td>\n",
       "    </tr>\n",
       "    <tr>\n",
       "      <th>2</th>\n",
       "      <td>1</td>\n",
       "      <td>307</td>\n",
       "      <td>5.0</td>\n",
       "      <td>1147868828</td>\n",
       "    </tr>\n",
       "    <tr>\n",
       "      <th>3</th>\n",
       "      <td>1</td>\n",
       "      <td>665</td>\n",
       "      <td>5.0</td>\n",
       "      <td>1147878820</td>\n",
       "    </tr>\n",
       "    <tr>\n",
       "      <th>4</th>\n",
       "      <td>1</td>\n",
       "      <td>899</td>\n",
       "      <td>3.5</td>\n",
       "      <td>1147868510</td>\n",
       "    </tr>\n",
       "  </tbody>\n",
       "</table>\n",
       "</div>"
      ],
      "text/plain": [
       "   userId  movieId  rating   timestamp\n",
       "0       1      296     5.0  1147880044\n",
       "1       1      306     3.5  1147868817\n",
       "2       1      307     5.0  1147868828\n",
       "3       1      665     5.0  1147878820\n",
       "4       1      899     3.5  1147868510"
      ]
     },
     "execution_count": 23,
     "metadata": {},
     "output_type": "execute_result"
    }
   ],
   "source": [
    "rating.head()"
   ]
  },
  {
   "cell_type": "code",
   "execution_count": 24,
   "metadata": {},
   "outputs": [
    {
     "name": "stdout",
     "output_type": "stream",
     "text": [
      "<class 'pandas.core.frame.DataFrame'>\n",
      "RangeIndex: 25000095 entries, 0 to 25000094\n",
      "Data columns (total 4 columns):\n",
      " #   Column     Dtype  \n",
      "---  ------     -----  \n",
      " 0   userId     int64  \n",
      " 1   movieId    int64  \n",
      " 2   rating     float64\n",
      " 3   timestamp  int64  \n",
      "dtypes: float64(1), int64(3)\n",
      "memory usage: 762.9 MB\n"
     ]
    }
   ],
   "source": [
    "rating.info()"
   ]
  },
  {
   "cell_type": "code",
   "execution_count": 25,
   "metadata": {},
   "outputs": [
    {
     "data": {
      "text/html": [
       "<div>\n",
       "<style scoped>\n",
       "    .dataframe tbody tr th:only-of-type {\n",
       "        vertical-align: middle;\n",
       "    }\n",
       "\n",
       "    .dataframe tbody tr th {\n",
       "        vertical-align: top;\n",
       "    }\n",
       "\n",
       "    .dataframe thead th {\n",
       "        text-align: right;\n",
       "    }\n",
       "</style>\n",
       "<table border=\"1\" class=\"dataframe\">\n",
       "  <thead>\n",
       "    <tr style=\"text-align: right;\">\n",
       "      <th></th>\n",
       "      <th>userId</th>\n",
       "      <th>movieId</th>\n",
       "      <th>rating</th>\n",
       "      <th>timestamp</th>\n",
       "    </tr>\n",
       "  </thead>\n",
       "  <tbody>\n",
       "    <tr>\n",
       "      <th>count</th>\n",
       "      <td>2.500010e+07</td>\n",
       "      <td>2.500010e+07</td>\n",
       "      <td>2.500010e+07</td>\n",
       "      <td>2.500010e+07</td>\n",
       "    </tr>\n",
       "    <tr>\n",
       "      <th>mean</th>\n",
       "      <td>8.118928e+04</td>\n",
       "      <td>2.138798e+04</td>\n",
       "      <td>3.533854e+00</td>\n",
       "      <td>1.215601e+09</td>\n",
       "    </tr>\n",
       "    <tr>\n",
       "      <th>std</th>\n",
       "      <td>4.679172e+04</td>\n",
       "      <td>3.919886e+04</td>\n",
       "      <td>1.060744e+00</td>\n",
       "      <td>2.268758e+08</td>\n",
       "    </tr>\n",
       "    <tr>\n",
       "      <th>min</th>\n",
       "      <td>1.000000e+00</td>\n",
       "      <td>1.000000e+00</td>\n",
       "      <td>5.000000e-01</td>\n",
       "      <td>7.896520e+08</td>\n",
       "    </tr>\n",
       "    <tr>\n",
       "      <th>25%</th>\n",
       "      <td>4.051000e+04</td>\n",
       "      <td>1.196000e+03</td>\n",
       "      <td>3.000000e+00</td>\n",
       "      <td>1.011747e+09</td>\n",
       "    </tr>\n",
       "    <tr>\n",
       "      <th>50%</th>\n",
       "      <td>8.091400e+04</td>\n",
       "      <td>2.947000e+03</td>\n",
       "      <td>3.500000e+00</td>\n",
       "      <td>1.198868e+09</td>\n",
       "    </tr>\n",
       "    <tr>\n",
       "      <th>75%</th>\n",
       "      <td>1.215570e+05</td>\n",
       "      <td>8.623000e+03</td>\n",
       "      <td>4.000000e+00</td>\n",
       "      <td>1.447205e+09</td>\n",
       "    </tr>\n",
       "    <tr>\n",
       "      <th>max</th>\n",
       "      <td>1.625410e+05</td>\n",
       "      <td>2.091710e+05</td>\n",
       "      <td>5.000000e+00</td>\n",
       "      <td>1.574328e+09</td>\n",
       "    </tr>\n",
       "  </tbody>\n",
       "</table>\n",
       "</div>"
      ],
      "text/plain": [
       "             userId       movieId        rating     timestamp\n",
       "count  2.500010e+07  2.500010e+07  2.500010e+07  2.500010e+07\n",
       "mean   8.118928e+04  2.138798e+04  3.533854e+00  1.215601e+09\n",
       "std    4.679172e+04  3.919886e+04  1.060744e+00  2.268758e+08\n",
       "min    1.000000e+00  1.000000e+00  5.000000e-01  7.896520e+08\n",
       "25%    4.051000e+04  1.196000e+03  3.000000e+00  1.011747e+09\n",
       "50%    8.091400e+04  2.947000e+03  3.500000e+00  1.198868e+09\n",
       "75%    1.215570e+05  8.623000e+03  4.000000e+00  1.447205e+09\n",
       "max    1.625410e+05  2.091710e+05  5.000000e+00  1.574328e+09"
      ]
     },
     "execution_count": 25,
     "metadata": {},
     "output_type": "execute_result"
    }
   ],
   "source": [
    "rating.describe()"
   ]
  },
  {
   "cell_type": "code",
   "execution_count": 27,
   "metadata": {},
   "outputs": [],
   "source": [
    "rating.drop(columns=['timestamp'], inplace=True)"
   ]
  },
  {
   "cell_type": "markdown",
   "metadata": {},
   "source": [
    "Kolom `timestamp` pada DataFrame rating dihilangkan (dropped) karena tidak relevan untuk perhitungan rating atau rekomendasi dalam konteks model collaborative filtering yang akan dibangun.\n",
    "- Alasan: Kolom `timestamp` tidak memberikan informasi langsung tentang preferensi pengguna terhadap film yang diperlukan untuk model collaborative filtering berbasis rating. Menghilangkannya mengurangi kompleksitas data dan kebutuhan memori."
   ]
  },
  {
   "cell_type": "code",
   "execution_count": 28,
   "metadata": {},
   "outputs": [
    {
     "data": {
      "text/html": [
       "<div>\n",
       "<style scoped>\n",
       "    .dataframe tbody tr th:only-of-type {\n",
       "        vertical-align: middle;\n",
       "    }\n",
       "\n",
       "    .dataframe tbody tr th {\n",
       "        vertical-align: top;\n",
       "    }\n",
       "\n",
       "    .dataframe thead th {\n",
       "        text-align: right;\n",
       "    }\n",
       "</style>\n",
       "<table border=\"1\" class=\"dataframe\">\n",
       "  <thead>\n",
       "    <tr style=\"text-align: right;\">\n",
       "      <th></th>\n",
       "      <th>userId</th>\n",
       "      <th>movieId</th>\n",
       "      <th>rating</th>\n",
       "    </tr>\n",
       "  </thead>\n",
       "  <tbody>\n",
       "    <tr>\n",
       "      <th>0</th>\n",
       "      <td>1</td>\n",
       "      <td>296</td>\n",
       "      <td>5.0</td>\n",
       "    </tr>\n",
       "    <tr>\n",
       "      <th>1</th>\n",
       "      <td>1</td>\n",
       "      <td>306</td>\n",
       "      <td>3.5</td>\n",
       "    </tr>\n",
       "    <tr>\n",
       "      <th>2</th>\n",
       "      <td>1</td>\n",
       "      <td>307</td>\n",
       "      <td>5.0</td>\n",
       "    </tr>\n",
       "    <tr>\n",
       "      <th>3</th>\n",
       "      <td>1</td>\n",
       "      <td>665</td>\n",
       "      <td>5.0</td>\n",
       "    </tr>\n",
       "    <tr>\n",
       "      <th>4</th>\n",
       "      <td>1</td>\n",
       "      <td>899</td>\n",
       "      <td>3.5</td>\n",
       "    </tr>\n",
       "  </tbody>\n",
       "</table>\n",
       "</div>"
      ],
      "text/plain": [
       "   userId  movieId  rating\n",
       "0       1      296     5.0\n",
       "1       1      306     3.5\n",
       "2       1      307     5.0\n",
       "3       1      665     5.0\n",
       "4       1      899     3.5"
      ]
     },
     "execution_count": 28,
     "metadata": {},
     "output_type": "execute_result"
    }
   ],
   "source": [
    "rating.head()"
   ]
  },
  {
   "cell_type": "code",
   "execution_count": 31,
   "metadata": {},
   "outputs": [],
   "source": [
    "rating_clean = rating"
   ]
  },
  {
   "cell_type": "markdown",
   "metadata": {},
   "source": [
    "#### Encoding `userId` dan `movieId`"
   ]
  },
  {
   "cell_type": "markdown",
   "metadata": {},
   "source": [
    "Daftar `ID` pengguna unik (`user_ids`) dan `ID` film unik (`movie_ids`) dibuat dari `DataFrame` `rating_clean`. Kemudian dua mapping (kamus) dibuat: `user_to_user_encoded` (memetakan `userId` asli ke indeks numerik berurutan) dan `user_encoded_to_user` (memetakan kembali indeks numerik ke `userId` asli). Proses serupa dilakukan untuk `movieId` (`movie_to_movie_encoded` dan `movie_encoded_to_movie`). Kolom baru user dan movie ditambahkan ke `rating_clean` yang berisi `ID` yang sudah di-encode.\n",
    "- Alasan: Model neural network memerlukan input numerik yang berurutan. Proses encoding ini mengubah `ID` pengguna dan film yang mungkin tidak berurutan atau terlalu besar menjadi indeks integer yang lebih kecil dan berurutan, yang efisien untuk digunakan sebagai input embedding layer dalam model neural network. Ini juga membantu dalam mengelola jumlah unique user dan movie secara terstruktur."
   ]
  },
  {
   "cell_type": "code",
   "execution_count": 32,
   "metadata": {},
   "outputs": [],
   "source": [
    "# mengubah userID menjadi list tanpa nilai yang sama\n",
    "user_ids = rating_clean['userId'].unique().tolist()\n",
    "\n",
    "# encoding userID\n",
    "user_to_user_encoded = {x: i for i, x in enumerate(user_ids)}\n",
    "\n",
    "# proses encoding angka ke userID\n",
    "user_encoded_to_user = {i: x for i, x in enumerate(user_ids)}"
   ]
  },
  {
   "cell_type": "code",
   "execution_count": 33,
   "metadata": {},
   "outputs": [
    {
     "data": {
      "text/plain": [
       "162541"
      ]
     },
     "execution_count": 33,
     "metadata": {},
     "output_type": "execute_result"
    }
   ],
   "source": [
    "len(user_ids)"
   ]
  },
  {
   "cell_type": "code",
   "execution_count": 34,
   "metadata": {},
   "outputs": [],
   "source": [
    "# ubag anime_id menjadi list unique\n",
    "movie_ids = rating_clean['movieId'].unique().tolist()\n",
    "\n",
    "# proses encoding anime_id\n",
    "movie_to_movie_encoded = {x: i for i, x in enumerate(movie_ids)}\n",
    "\n",
    "# proses encoding angka ke anime_id\n",
    "movie_encoded_to_movie = {i: x for i, x in enumerate(movie_ids)}"
   ]
  },
  {
   "cell_type": "code",
   "execution_count": 35,
   "metadata": {},
   "outputs": [],
   "source": [
    "rating_clean['user'] = rating_clean['userId'].map(user_to_user_encoded)\n",
    "rating_clean['movie'] = rating_clean['movieId'].map(movie_to_movie_encoded)"
   ]
  },
  {
   "cell_type": "code",
   "execution_count": 37,
   "metadata": {},
   "outputs": [
    {
     "data": {
      "text/html": [
       "<div>\n",
       "<style scoped>\n",
       "    .dataframe tbody tr th:only-of-type {\n",
       "        vertical-align: middle;\n",
       "    }\n",
       "\n",
       "    .dataframe tbody tr th {\n",
       "        vertical-align: top;\n",
       "    }\n",
       "\n",
       "    .dataframe thead th {\n",
       "        text-align: right;\n",
       "    }\n",
       "</style>\n",
       "<table border=\"1\" class=\"dataframe\">\n",
       "  <thead>\n",
       "    <tr style=\"text-align: right;\">\n",
       "      <th></th>\n",
       "      <th>userId</th>\n",
       "      <th>movieId</th>\n",
       "      <th>rating</th>\n",
       "      <th>user</th>\n",
       "      <th>movie</th>\n",
       "    </tr>\n",
       "  </thead>\n",
       "  <tbody>\n",
       "    <tr>\n",
       "      <th>0</th>\n",
       "      <td>1</td>\n",
       "      <td>296</td>\n",
       "      <td>5.0</td>\n",
       "      <td>0</td>\n",
       "      <td>0</td>\n",
       "    </tr>\n",
       "    <tr>\n",
       "      <th>1</th>\n",
       "      <td>1</td>\n",
       "      <td>306</td>\n",
       "      <td>3.5</td>\n",
       "      <td>0</td>\n",
       "      <td>1</td>\n",
       "    </tr>\n",
       "    <tr>\n",
       "      <th>2</th>\n",
       "      <td>1</td>\n",
       "      <td>307</td>\n",
       "      <td>5.0</td>\n",
       "      <td>0</td>\n",
       "      <td>2</td>\n",
       "    </tr>\n",
       "    <tr>\n",
       "      <th>3</th>\n",
       "      <td>1</td>\n",
       "      <td>665</td>\n",
       "      <td>5.0</td>\n",
       "      <td>0</td>\n",
       "      <td>3</td>\n",
       "    </tr>\n",
       "    <tr>\n",
       "      <th>4</th>\n",
       "      <td>1</td>\n",
       "      <td>899</td>\n",
       "      <td>3.5</td>\n",
       "      <td>0</td>\n",
       "      <td>4</td>\n",
       "    </tr>\n",
       "  </tbody>\n",
       "</table>\n",
       "</div>"
      ],
      "text/plain": [
       "   userId  movieId  rating  user  movie\n",
       "0       1      296     5.0     0      0\n",
       "1       1      306     3.5     0      1\n",
       "2       1      307     5.0     0      2\n",
       "3       1      665     5.0     0      3\n",
       "4       1      899     3.5     0      4"
      ]
     },
     "execution_count": 37,
     "metadata": {},
     "output_type": "execute_result"
    }
   ],
   "source": [
    "rating_clean.head()"
   ]
  },
  {
   "cell_type": "markdown",
   "metadata": {},
   "source": [
    "#### Normalisasi Rating"
   ]
  },
  {
   "cell_type": "markdown",
   "metadata": {},
   "source": [
    "Kolom rating di `DataFrame` `rating_clean` diubah tipe datanya menjadi `float32`. Kemudian, nilai rating dinormalisasi ke rentang antara 0 dan 1 menggunakan rumus: `(x−min_rating)/(max_rating−min_rating)`. Nilai `min_rating` adalah 0.5 dan `max_rating` adalah 5.0.\n",
    "\n",
    "- Alasan: Normalisasi rating ke skala 0-1 adalah praktik umum dalam model neural network, terutama ketika menggunakan fungsi aktivasi sigmoid pada output layer yang menghasilkan nilai antara 0 dan 1. Ini membantu model belajar lebih stabil dan efisien, serta memastikan bahwa loss function (seperti Binary Crossentropy yang digunakan) bekerja dengan baik pada skala output yang sesuai."
   ]
  },
  {
   "cell_type": "code",
   "execution_count": 38,
   "metadata": {},
   "outputs": [
    {
     "name": "stdout",
     "output_type": "stream",
     "text": [
      "162541\n",
      "59047\n",
      "Number of user: 162541\n",
      "Number of Movie: 59047\n",
      "Min Rating: 0.5\n",
      "Max Rating: 5.0\n"
     ]
    }
   ],
   "source": [
    "import numpy as np\n",
    "\n",
    "# jumlah user\n",
    "num_users = len(user_to_user_encoded)\n",
    "print(num_users)\n",
    "\n",
    "# jumlah anime\n",
    "num_movie = len(movie_to_movie_encoded)\n",
    "print(num_movie)\n",
    "\n",
    "# ubah rating -> float\n",
    "rating_clean['rating'] = rating_clean['rating'].values.astype(np.float32)\n",
    "\n",
    "# min rating\n",
    "min_rating = min(rating_clean['rating'])\n",
    "\n",
    "# max rating\n",
    "max_rating = max(rating_clean['rating'])\n",
    "\n",
    "print(f'Number of user: {num_users}\\nNumber of Movie: {num_movie}\\nMin Rating: {min_rating}\\nMax Rating: {max_rating}',)"
   ]
  },
  {
   "cell_type": "markdown",
   "metadata": {},
   "source": [
    "#### Train-Test-Split"
   ]
  },
  {
   "cell_type": "markdown",
   "metadata": {},
   "source": [
    "Data `rating_clean` diacak (shuffled) secara acak dengan `random_state=42` untuk memastikan distribusi data yang merata. Kemudian, data dibagi menjadi set pelatihan (80%) dan set validasi (20%). Variabel `x` berisi pasangan (`user, movie`), dan `y` berisi rating yang dinormalisasi.\n",
    "\n",
    "- Alasan: Pembagian data menjadi set pelatihan dan validasi sangat penting untuk mengevaluasi performa model secara objektif. Data pelatihan digunakan untuk mengajarkan model, sementara data validasi digunakan untuk menguji seberapa baik model dapat menggeneralisasi pada data yang belum pernah dilihat sebelumnya, membantu mendeteksi overfitting. Pengacakan data memastikan bahwa pembagian tersebut representatif."
   ]
  },
  {
   "cell_type": "code",
   "execution_count": 39,
   "metadata": {},
   "outputs": [
    {
     "data": {
      "text/html": [
       "<div>\n",
       "<style scoped>\n",
       "    .dataframe tbody tr th:only-of-type {\n",
       "        vertical-align: middle;\n",
       "    }\n",
       "\n",
       "    .dataframe tbody tr th {\n",
       "        vertical-align: top;\n",
       "    }\n",
       "\n",
       "    .dataframe thead th {\n",
       "        text-align: right;\n",
       "    }\n",
       "</style>\n",
       "<table border=\"1\" class=\"dataframe\">\n",
       "  <thead>\n",
       "    <tr style=\"text-align: right;\">\n",
       "      <th></th>\n",
       "      <th>userId</th>\n",
       "      <th>movieId</th>\n",
       "      <th>rating</th>\n",
       "      <th>user</th>\n",
       "      <th>movie</th>\n",
       "    </tr>\n",
       "  </thead>\n",
       "  <tbody>\n",
       "    <tr>\n",
       "      <th>15347762</th>\n",
       "      <td>99476</td>\n",
       "      <td>104374</td>\n",
       "      <td>3.5</td>\n",
       "      <td>99475</td>\n",
       "      <td>3024</td>\n",
       "    </tr>\n",
       "    <tr>\n",
       "      <th>16647840</th>\n",
       "      <td>107979</td>\n",
       "      <td>2634</td>\n",
       "      <td>4.0</td>\n",
       "      <td>107978</td>\n",
       "      <td>9645</td>\n",
       "    </tr>\n",
       "    <tr>\n",
       "      <th>23915192</th>\n",
       "      <td>155372</td>\n",
       "      <td>1614</td>\n",
       "      <td>3.0</td>\n",
       "      <td>155371</td>\n",
       "      <td>1092</td>\n",
       "    </tr>\n",
       "    <tr>\n",
       "      <th>10052313</th>\n",
       "      <td>65225</td>\n",
       "      <td>7153</td>\n",
       "      <td>4.0</td>\n",
       "      <td>65224</td>\n",
       "      <td>227</td>\n",
       "    </tr>\n",
       "    <tr>\n",
       "      <th>12214125</th>\n",
       "      <td>79161</td>\n",
       "      <td>500</td>\n",
       "      <td>5.0</td>\n",
       "      <td>79160</td>\n",
       "      <td>964</td>\n",
       "    </tr>\n",
       "    <tr>\n",
       "      <th>...</th>\n",
       "      <td>...</td>\n",
       "      <td>...</td>\n",
       "      <td>...</td>\n",
       "      <td>...</td>\n",
       "      <td>...</td>\n",
       "    </tr>\n",
       "    <tr>\n",
       "      <th>13315092</th>\n",
       "      <td>86163</td>\n",
       "      <td>1610</td>\n",
       "      <td>3.0</td>\n",
       "      <td>86162</td>\n",
       "      <td>130</td>\n",
       "    </tr>\n",
       "    <tr>\n",
       "      <th>21081788</th>\n",
       "      <td>137027</td>\n",
       "      <td>112552</td>\n",
       "      <td>5.0</td>\n",
       "      <td>137026</td>\n",
       "      <td>772</td>\n",
       "    </tr>\n",
       "    <tr>\n",
       "      <th>23327850</th>\n",
       "      <td>151445</td>\n",
       "      <td>4019</td>\n",
       "      <td>5.0</td>\n",
       "      <td>151444</td>\n",
       "      <td>188</td>\n",
       "    </tr>\n",
       "    <tr>\n",
       "      <th>16094478</th>\n",
       "      <td>104327</td>\n",
       "      <td>3773</td>\n",
       "      <td>3.0</td>\n",
       "      <td>104326</td>\n",
       "      <td>8791</td>\n",
       "    </tr>\n",
       "    <tr>\n",
       "      <th>23200604</th>\n",
       "      <td>150645</td>\n",
       "      <td>55820</td>\n",
       "      <td>4.0</td>\n",
       "      <td>150644</td>\n",
       "      <td>565</td>\n",
       "    </tr>\n",
       "  </tbody>\n",
       "</table>\n",
       "<p>25000095 rows × 5 columns</p>\n",
       "</div>"
      ],
      "text/plain": [
       "          userId  movieId  rating    user  movie\n",
       "15347762   99476   104374     3.5   99475   3024\n",
       "16647840  107979     2634     4.0  107978   9645\n",
       "23915192  155372     1614     3.0  155371   1092\n",
       "10052313   65225     7153     4.0   65224    227\n",
       "12214125   79161      500     5.0   79160    964\n",
       "...          ...      ...     ...     ...    ...\n",
       "13315092   86163     1610     3.0   86162    130\n",
       "21081788  137027   112552     5.0  137026    772\n",
       "23327850  151445     4019     5.0  151444    188\n",
       "16094478  104327     3773     3.0  104326   8791\n",
       "23200604  150645    55820     4.0  150644    565\n",
       "\n",
       "[25000095 rows x 5 columns]"
      ]
     },
     "execution_count": 39,
     "metadata": {},
     "output_type": "execute_result"
    }
   ],
   "source": [
    "rating_clean = rating_clean.sample(frac=1, random_state=42)\n",
    "rating_clean"
   ]
  },
  {
   "cell_type": "code",
   "execution_count": 40,
   "metadata": {},
   "outputs": [
    {
     "name": "stdout",
     "output_type": "stream",
     "text": [
      "[[ 99475   3024]\n",
      " [107978   9645]\n",
      " [155371   1092]\n",
      " ...\n",
      " [151444    188]\n",
      " [104326   8791]\n",
      " [150644    565]] [0.66666667 0.77777778 0.55555556 ... 1.         0.55555556 0.77777778]\n"
     ]
    }
   ],
   "source": [
    "x = rating_clean[['user', 'movie']].values\n",
    "\n",
    "y = rating_clean['rating'].apply(lambda x: (x-min_rating)/(max_rating-min_rating)).values\n",
    "\n",
    "# bagi jadi 80:20\n",
    "train_indices = int(0.8*rating_clean.shape[0])\n",
    "x_train, x_val, y_train, y_val = (\n",
    "    x[:train_indices],\n",
    "    x[train_indices:],\n",
    "    y[:train_indices],\n",
    "    y[train_indices:]\n",
    ")\n",
    "\n",
    "print(x,y)"
   ]
  },
  {
   "cell_type": "markdown",
   "metadata": {},
   "source": [
    "### Pemodelan"
   ]
  },
  {
   "cell_type": "code",
   "execution_count": 41,
   "metadata": {},
   "outputs": [],
   "source": [
    "from zipfile import ZipFile\n",
    "import tensorflow as tf\n",
    "from tensorflow import keras\n",
    "from tensorflow.keras import layers\n",
    "from pathlib import Path\n",
    "import matplotlib.pyplot as plt"
   ]
  },
  {
   "cell_type": "markdown",
   "metadata": {},
   "source": [
    "#### Algoritma/Pendekatan\n",
    "Pendekatan ini menggunakan arsitektur Neural Network (`RecommenderNet`) berbasis embedding untuk memprediksi rating film dan merekomendasikannya."
   ]
  },
  {
   "cell_type": "markdown",
   "metadata": {},
   "source": [
    "#### Arsitektur Model (`RecommenderNet`): \n",
    "Model dibangun menggunakan `TensorFlow Keras`.\n",
    "- User dan Movie Embedding: Model memiliki lapisan embedding untuk `num_users` dan num_movie, masing-masing dengan ukuran `embedding_size` 10. Embedding ini diinisialisasi dengan '`he_normal`' dan diregularisasi dengan `L2`.\n",
    "- User dan Movie Bias: Terdapat juga lapisan bias terpisah untuk pengguna dan film.\n",
    "- Logika Prediksi: Fungsi call model menghitung perkalian titik (dot product) antara vektor embedding pengguna dan film, lalu menambahkan bias pengguna dan film. Hasilnya dilewatkan melalui fungsi aktivasi sigmoid untuk menghasilkan prediksi rating antara 0 dan 1."
   ]
  },
  {
   "cell_type": "code",
   "execution_count": 42,
   "metadata": {},
   "outputs": [],
   "source": [
    "class RecommenderNet(tf.keras.Model):\n",
    "\n",
    "    # init func\n",
    "    def __init__(self, num_users, num_movie, embedding_size, **kwargs):\n",
    "        super(RecommenderNet, self).__init__(**kwargs)\n",
    "        self.num_users = num_users\n",
    "        self.num_movie = num_movie\n",
    "        self.embedding_size = embedding_size\n",
    "        self.user_embedding = layers.Embedding(\n",
    "            num_users,\n",
    "            embedding_size,\n",
    "            embeddings_initializer='he_normal',\n",
    "            embeddings_regularizer=keras.regularizers.l2(1e-6),\n",
    "        )\n",
    "        self.user_bias = layers.Embedding(num_users,1)\n",
    "        self.movie_embedding = layers.Embedding(\n",
    "            num_movie,\n",
    "            embedding_size,\n",
    "            embeddings_initializer='he_normal',\n",
    "            embeddings_regularizer=keras.regularizers.l2(1e-6),\n",
    "        )\n",
    "        self.movie_bias = layers.Embedding(num_movie,1)\n",
    "\n",
    "    def call(self, inputs):\n",
    "        user_vector = self.user_embedding(inputs[:, 0])\n",
    "        user_bias = self.user_bias(inputs[:, 0])\n",
    "        movie_vector = self.movie_embedding(inputs[:, 1])\n",
    "        movie_bias = self.movie_bias(inputs[:, 1])\n",
    "\n",
    "        dot_user_resto = tf.tensordot(user_vector, movie_vector, 2)\n",
    "        x = dot_user_resto + user_bias + movie_bias\n",
    "        return tf.nn.sigmoid(x)"
   ]
  },
  {
   "cell_type": "markdown",
   "metadata": {},
   "source": [
    "#### Pelatihan Model\n",
    "Model dikompilasi dengan `BinaryCrossentropy` sebagai loss function, `Adam` optimizer dengan `*learning_rate=0.0001`, dan `RootMeanSquaredError` sebagai metrik evaluasi\n",
    ". Model dilatih selama 50 *epochs* dengan `batch_size=2048`. Proses pelatihan menunjukkan penurunan nilai `loss` dan `root_mean_squared_error` baik pada data train maupun test, menunjukkan model belajar dengan baik."
   ]
  },
  {
   "cell_type": "code",
   "execution_count": 73,
   "metadata": {},
   "outputs": [
    {
     "name": "stdout",
     "output_type": "stream",
     "text": [
      "Epoch 1/50\n",
      "\u001b[1m9766/9766\u001b[0m \u001b[32m━━━━━━━━━━━━━━━━━━━━\u001b[0m\u001b[37m\u001b[0m \u001b[1m115s\u001b[0m 12ms/step - loss: 0.6388 - root_mean_squared_error: 0.2435 - val_loss: 0.6100 - val_root_mean_squared_error: 0.2152\n",
      "Epoch 2/50\n",
      "\u001b[1m9766/9766\u001b[0m \u001b[32m━━━━━━━━━━━━━━━━━━━━\u001b[0m\u001b[37m\u001b[0m \u001b[1m109s\u001b[0m 11ms/step - loss: 0.6078 - root_mean_squared_error: 0.2127 - val_loss: 0.6026 - val_root_mean_squared_error: 0.2073\n",
      "Epoch 3/50\n",
      "\u001b[1m9766/9766\u001b[0m \u001b[32m━━━━━━━━━━━━━━━━━━━━\u001b[0m\u001b[37m\u001b[0m \u001b[1m97s\u001b[0m 10ms/step - loss: 0.6014 - root_mean_squared_error: 0.2059 - val_loss: 0.5986 - val_root_mean_squared_error: 0.2030\n",
      "Epoch 4/50\n",
      "\u001b[1m9766/9766\u001b[0m \u001b[32m━━━━━━━━━━━━━━━━━━━━\u001b[0m\u001b[37m\u001b[0m \u001b[1m79s\u001b[0m 8ms/step - loss: 0.5977 - root_mean_squared_error: 0.2019 - val_loss: 0.5960 - val_root_mean_squared_error: 0.2002\n",
      "Epoch 5/50\n",
      "\u001b[1m9766/9766\u001b[0m \u001b[32m━━━━━━━━━━━━━━━━━━━━\u001b[0m\u001b[37m\u001b[0m \u001b[1m81s\u001b[0m 8ms/step - loss: 0.5951 - root_mean_squared_error: 0.1992 - val_loss: 0.5941 - val_root_mean_squared_error: 0.1982\n",
      "Epoch 6/50\n",
      "\u001b[1m9766/9766\u001b[0m \u001b[32m━━━━━━━━━━━━━━━━━━━━\u001b[0m\u001b[37m\u001b[0m \u001b[1m79s\u001b[0m 8ms/step - loss: 0.5934 - root_mean_squared_error: 0.1973 - val_loss: 0.5927 - val_root_mean_squared_error: 0.1967\n",
      "Epoch 7/50\n",
      "\u001b[1m9766/9766\u001b[0m \u001b[32m━━━━━━━━━━━━━━━━━━━━\u001b[0m\u001b[37m\u001b[0m \u001b[1m80s\u001b[0m 8ms/step - loss: 0.5920 - root_mean_squared_error: 0.1958 - val_loss: 0.5917 - val_root_mean_squared_error: 0.1956\n",
      "Epoch 8/50\n",
      "\u001b[1m9766/9766\u001b[0m \u001b[32m━━━━━━━━━━━━━━━━━━━━\u001b[0m\u001b[37m\u001b[0m \u001b[1m78s\u001b[0m 8ms/step - loss: 0.5910 - root_mean_squared_error: 0.1948 - val_loss: 0.5909 - val_root_mean_squared_error: 0.1948\n",
      "Epoch 9/50\n",
      "\u001b[1m9766/9766\u001b[0m \u001b[32m━━━━━━━━━━━━━━━━━━━━\u001b[0m\u001b[37m\u001b[0m \u001b[1m74s\u001b[0m 8ms/step - loss: 0.5901 - root_mean_squared_error: 0.1938 - val_loss: 0.5902 - val_root_mean_squared_error: 0.1941\n",
      "Epoch 10/50\n",
      "\u001b[1m9766/9766\u001b[0m \u001b[32m━━━━━━━━━━━━━━━━━━━━\u001b[0m\u001b[37m\u001b[0m \u001b[1m76s\u001b[0m 8ms/step - loss: 0.5895 - root_mean_squared_error: 0.1931 - val_loss: 0.5897 - val_root_mean_squared_error: 0.1935\n",
      "Epoch 11/50\n",
      "\u001b[1m9766/9766\u001b[0m \u001b[32m━━━━━━━━━━━━━━━━━━━━\u001b[0m\u001b[37m\u001b[0m \u001b[1m73s\u001b[0m 7ms/step - loss: 0.5888 - root_mean_squared_error: 0.1926 - val_loss: 0.5892 - val_root_mean_squared_error: 0.1931\n",
      "Epoch 12/50\n",
      "\u001b[1m9766/9766\u001b[0m \u001b[32m━━━━━━━━━━━━━━━━━━━━\u001b[0m\u001b[37m\u001b[0m \u001b[1m75s\u001b[0m 8ms/step - loss: 0.5885 - root_mean_squared_error: 0.1921 - val_loss: 0.5889 - val_root_mean_squared_error: 0.1927\n",
      "Epoch 13/50\n",
      "\u001b[1m9766/9766\u001b[0m \u001b[32m━━━━━━━━━━━━━━━━━━━━\u001b[0m\u001b[37m\u001b[0m \u001b[1m82s\u001b[0m 8ms/step - loss: 0.5881 - root_mean_squared_error: 0.1917 - val_loss: 0.5886 - val_root_mean_squared_error: 0.1924\n",
      "Epoch 14/50\n",
      "\u001b[1m9766/9766\u001b[0m \u001b[32m━━━━━━━━━━━━━━━━━━━━\u001b[0m\u001b[37m\u001b[0m \u001b[1m79s\u001b[0m 8ms/step - loss: 0.5877 - root_mean_squared_error: 0.1913 - val_loss: 0.5883 - val_root_mean_squared_error: 0.1921\n",
      "Epoch 15/50\n",
      "\u001b[1m9766/9766\u001b[0m \u001b[32m━━━━━━━━━━━━━━━━━━━━\u001b[0m\u001b[37m\u001b[0m \u001b[1m80s\u001b[0m 8ms/step - loss: 0.5874 - root_mean_squared_error: 0.1909 - val_loss: 0.5881 - val_root_mean_squared_error: 0.1919\n",
      "Epoch 16/50\n",
      "\u001b[1m9766/9766\u001b[0m \u001b[32m━━━━━━━━━━━━━━━━━━━━\u001b[0m\u001b[37m\u001b[0m \u001b[1m86s\u001b[0m 9ms/step - loss: 0.5871 - root_mean_squared_error: 0.1908 - val_loss: 0.5879 - val_root_mean_squared_error: 0.1917\n",
      "Epoch 17/50\n",
      "\u001b[1m9766/9766\u001b[0m \u001b[32m━━━━━━━━━━━━━━━━━━━━\u001b[0m\u001b[37m\u001b[0m \u001b[1m103s\u001b[0m 11ms/step - loss: 0.5869 - root_mean_squared_error: 0.1905 - val_loss: 0.5878 - val_root_mean_squared_error: 0.1916\n",
      "Epoch 18/50\n",
      "\u001b[1m9766/9766\u001b[0m \u001b[32m━━━━━━━━━━━━━━━━━━━━\u001b[0m\u001b[37m\u001b[0m \u001b[1m94s\u001b[0m 10ms/step - loss: 0.5868 - root_mean_squared_error: 0.1903 - val_loss: 0.5876 - val_root_mean_squared_error: 0.1914\n",
      "Epoch 19/50\n",
      "\u001b[1m9766/9766\u001b[0m \u001b[32m━━━━━━━━━━━━━━━━━━━━\u001b[0m\u001b[37m\u001b[0m \u001b[1m116s\u001b[0m 12ms/step - loss: 0.5866 - root_mean_squared_error: 0.1902 - val_loss: 0.5875 - val_root_mean_squared_error: 0.1913\n",
      "Epoch 20/50\n",
      "\u001b[1m9766/9766\u001b[0m \u001b[32m━━━━━━━━━━━━━━━━━━━━\u001b[0m\u001b[37m\u001b[0m \u001b[1m91s\u001b[0m 9ms/step - loss: 0.5865 - root_mean_squared_error: 0.1901 - val_loss: 0.5874 - val_root_mean_squared_error: 0.1912\n",
      "Epoch 21/50\n",
      "\u001b[1m9766/9766\u001b[0m \u001b[32m━━━━━━━━━━━━━━━━━━━━\u001b[0m\u001b[37m\u001b[0m \u001b[1m89s\u001b[0m 9ms/step - loss: 0.5863 - root_mean_squared_error: 0.1899 - val_loss: 0.5873 - val_root_mean_squared_error: 0.1911\n",
      "Epoch 22/50\n",
      "\u001b[1m9766/9766\u001b[0m \u001b[32m━━━━━━━━━━━━━━━━━━━━\u001b[0m\u001b[37m\u001b[0m \u001b[1m93s\u001b[0m 9ms/step - loss: 0.5862 - root_mean_squared_error: 0.1898 - val_loss: 0.5872 - val_root_mean_squared_error: 0.1910\n",
      "Epoch 23/50\n",
      "\u001b[1m9766/9766\u001b[0m \u001b[32m━━━━━━━━━━━━━━━━━━━━\u001b[0m\u001b[37m\u001b[0m \u001b[1m88s\u001b[0m 9ms/step - loss: 0.5861 - root_mean_squared_error: 0.1897 - val_loss: 0.5871 - val_root_mean_squared_error: 0.1909\n",
      "Epoch 24/50\n",
      "\u001b[1m9766/9766\u001b[0m \u001b[32m━━━━━━━━━━━━━━━━━━━━\u001b[0m\u001b[37m\u001b[0m \u001b[1m153s\u001b[0m 16ms/step - loss: 0.5860 - root_mean_squared_error: 0.1896 - val_loss: 0.5871 - val_root_mean_squared_error: 0.1909\n",
      "Epoch 25/50\n",
      "\u001b[1m9766/9766\u001b[0m \u001b[32m━━━━━━━━━━━━━━━━━━━━\u001b[0m\u001b[37m\u001b[0m \u001b[1m172s\u001b[0m 18ms/step - loss: 0.5859 - root_mean_squared_error: 0.1895 - val_loss: 0.5870 - val_root_mean_squared_error: 0.1908\n",
      "Epoch 26/50\n",
      "\u001b[1m9766/9766\u001b[0m \u001b[32m━━━━━━━━━━━━━━━━━━━━\u001b[0m\u001b[37m\u001b[0m \u001b[1m139s\u001b[0m 14ms/step - loss: 0.5858 - root_mean_squared_error: 0.1894 - val_loss: 0.5870 - val_root_mean_squared_error: 0.1908\n",
      "Epoch 27/50\n",
      "\u001b[1m9766/9766\u001b[0m \u001b[32m━━━━━━━━━━━━━━━━━━━━\u001b[0m\u001b[37m\u001b[0m \u001b[1m137s\u001b[0m 14ms/step - loss: 0.5858 - root_mean_squared_error: 0.1894 - val_loss: 0.5869 - val_root_mean_squared_error: 0.1907\n",
      "Epoch 28/50\n",
      "\u001b[1m9766/9766\u001b[0m \u001b[32m━━━━━━━━━━━━━━━━━━━━\u001b[0m\u001b[37m\u001b[0m \u001b[1m128s\u001b[0m 13ms/step - loss: 0.5858 - root_mean_squared_error: 0.1893 - val_loss: 0.5869 - val_root_mean_squared_error: 0.1907\n",
      "Epoch 29/50\n",
      "\u001b[1m9766/9766\u001b[0m \u001b[32m━━━━━━━━━━━━━━━━━━━━\u001b[0m\u001b[37m\u001b[0m \u001b[1m119s\u001b[0m 12ms/step - loss: 0.5856 - root_mean_squared_error: 0.1892 - val_loss: 0.5868 - val_root_mean_squared_error: 0.1906\n",
      "Epoch 30/50\n",
      "\u001b[1m9766/9766\u001b[0m \u001b[32m━━━━━━━━━━━━━━━━━━━━\u001b[0m\u001b[37m\u001b[0m \u001b[1m115s\u001b[0m 12ms/step - loss: 0.5855 - root_mean_squared_error: 0.1891 - val_loss: 0.5868 - val_root_mean_squared_error: 0.1906\n",
      "Epoch 31/50\n",
      "\u001b[1m9766/9766\u001b[0m \u001b[32m━━━━━━━━━━━━━━━━━━━━\u001b[0m\u001b[37m\u001b[0m \u001b[1m115s\u001b[0m 12ms/step - loss: 0.5856 - root_mean_squared_error: 0.1891 - val_loss: 0.5868 - val_root_mean_squared_error: 0.1906\n",
      "Epoch 32/50\n",
      "\u001b[1m9766/9766\u001b[0m \u001b[32m━━━━━━━━━━━━━━━━━━━━\u001b[0m\u001b[37m\u001b[0m \u001b[1m127s\u001b[0m 13ms/step - loss: 0.5854 - root_mean_squared_error: 0.1891 - val_loss: 0.5867 - val_root_mean_squared_error: 0.1906\n",
      "Epoch 33/50\n",
      "\u001b[1m9766/9766\u001b[0m \u001b[32m━━━━━━━━━━━━━━━━━━━━\u001b[0m\u001b[37m\u001b[0m \u001b[1m105s\u001b[0m 11ms/step - loss: 0.5855 - root_mean_squared_error: 0.1890 - val_loss: 0.5867 - val_root_mean_squared_error: 0.1905\n",
      "Epoch 34/50\n",
      "\u001b[1m9766/9766\u001b[0m \u001b[32m━━━━━━━━━━━━━━━━━━━━\u001b[0m\u001b[37m\u001b[0m \u001b[1m104s\u001b[0m 11ms/step - loss: 0.5853 - root_mean_squared_error: 0.1889 - val_loss: 0.5867 - val_root_mean_squared_error: 0.1905\n",
      "Epoch 35/50\n",
      "\u001b[1m9766/9766\u001b[0m \u001b[32m━━━━━━━━━━━━━━━━━━━━\u001b[0m\u001b[37m\u001b[0m \u001b[1m101s\u001b[0m 10ms/step - loss: 0.5854 - root_mean_squared_error: 0.1890 - val_loss: 0.5867 - val_root_mean_squared_error: 0.1905\n",
      "Epoch 36/50\n",
      "\u001b[1m9766/9766\u001b[0m \u001b[32m━━━━━━━━━━━━━━━━━━━━\u001b[0m\u001b[37m\u001b[0m \u001b[1m115s\u001b[0m 12ms/step - loss: 0.5854 - root_mean_squared_error: 0.1889 - val_loss: 0.5867 - val_root_mean_squared_error: 0.1905\n",
      "Epoch 37/50\n",
      "\u001b[1m9766/9766\u001b[0m \u001b[32m━━━━━━━━━━━━━━━━━━━━\u001b[0m\u001b[37m\u001b[0m \u001b[1m100s\u001b[0m 10ms/step - loss: 0.5852 - root_mean_squared_error: 0.1888 - val_loss: 0.5866 - val_root_mean_squared_error: 0.1905\n",
      "Epoch 38/50\n",
      "\u001b[1m9766/9766\u001b[0m \u001b[32m━━━━━━━━━━━━━━━━━━━━\u001b[0m\u001b[37m\u001b[0m \u001b[1m96s\u001b[0m 10ms/step - loss: 0.5853 - root_mean_squared_error: 0.1889 - val_loss: 0.5866 - val_root_mean_squared_error: 0.1904\n",
      "Epoch 39/50\n",
      "\u001b[1m9766/9766\u001b[0m \u001b[32m━━━━━━━━━━━━━━━━━━━━\u001b[0m\u001b[37m\u001b[0m \u001b[1m93s\u001b[0m 9ms/step - loss: 0.5852 - root_mean_squared_error: 0.1889 - val_loss: 0.5866 - val_root_mean_squared_error: 0.1904\n",
      "Epoch 40/50\n",
      "\u001b[1m9766/9766\u001b[0m \u001b[32m━━━━━━━━━━━━━━━━━━━━\u001b[0m\u001b[37m\u001b[0m \u001b[1m87s\u001b[0m 9ms/step - loss: 0.5852 - root_mean_squared_error: 0.1889 - val_loss: 0.5866 - val_root_mean_squared_error: 0.1904\n",
      "Epoch 41/50\n",
      "\u001b[1m9766/9766\u001b[0m \u001b[32m━━━━━━━━━━━━━━━━━━━━\u001b[0m\u001b[37m\u001b[0m \u001b[1m83s\u001b[0m 8ms/step - loss: 0.5852 - root_mean_squared_error: 0.1888 - val_loss: 0.5866 - val_root_mean_squared_error: 0.1904\n",
      "Epoch 42/50\n",
      "\u001b[1m9766/9766\u001b[0m \u001b[32m━━━━━━━━━━━━━━━━━━━━\u001b[0m\u001b[37m\u001b[0m \u001b[1m125s\u001b[0m 13ms/step - loss: 0.5852 - root_mean_squared_error: 0.1888 - val_loss: 0.5866 - val_root_mean_squared_error: 0.1904\n",
      "Epoch 43/50\n",
      "\u001b[1m9766/9766\u001b[0m \u001b[32m━━━━━━━━━━━━━━━━━━━━\u001b[0m\u001b[37m\u001b[0m \u001b[1m117s\u001b[0m 12ms/step - loss: 0.5852 - root_mean_squared_error: 0.1887 - val_loss: 0.5866 - val_root_mean_squared_error: 0.1904\n",
      "Epoch 44/50\n",
      "\u001b[1m9766/9766\u001b[0m \u001b[32m━━━━━━━━━━━━━━━━━━━━\u001b[0m\u001b[37m\u001b[0m \u001b[1m117s\u001b[0m 12ms/step - loss: 0.5850 - root_mean_squared_error: 0.1887 - val_loss: 0.5866 - val_root_mean_squared_error: 0.1904\n",
      "Epoch 45/50\n",
      "\u001b[1m9766/9766\u001b[0m \u001b[32m━━━━━━━━━━━━━━━━━━━━\u001b[0m\u001b[37m\u001b[0m \u001b[1m89s\u001b[0m 9ms/step - loss: 0.5851 - root_mean_squared_error: 0.1887 - val_loss: 0.5866 - val_root_mean_squared_error: 0.1904\n",
      "Epoch 46/50\n",
      "\u001b[1m9766/9766\u001b[0m \u001b[32m━━━━━━━━━━━━━━━━━━━━\u001b[0m\u001b[37m\u001b[0m \u001b[1m101s\u001b[0m 10ms/step - loss: 0.5851 - root_mean_squared_error: 0.1887 - val_loss: 0.5866 - val_root_mean_squared_error: 0.1904\n",
      "Epoch 47/50\n",
      "\u001b[1m9766/9766\u001b[0m \u001b[32m━━━━━━━━━━━━━━━━━━━━\u001b[0m\u001b[37m\u001b[0m \u001b[1m77s\u001b[0m 8ms/step - loss: 0.5851 - root_mean_squared_error: 0.1887 - val_loss: 0.5866 - val_root_mean_squared_error: 0.1904\n",
      "Epoch 48/50\n",
      "\u001b[1m9766/9766\u001b[0m \u001b[32m━━━━━━━━━━━━━━━━━━━━\u001b[0m\u001b[37m\u001b[0m \u001b[1m77s\u001b[0m 8ms/step - loss: 0.5851 - root_mean_squared_error: 0.1886 - val_loss: 0.5866 - val_root_mean_squared_error: 0.1904\n",
      "Epoch 49/50\n",
      "\u001b[1m9766/9766\u001b[0m \u001b[32m━━━━━━━━━━━━━━━━━━━━\u001b[0m\u001b[37m\u001b[0m \u001b[1m84s\u001b[0m 9ms/step - loss: 0.5851 - root_mean_squared_error: 0.1887 - val_loss: 0.5866 - val_root_mean_squared_error: 0.1904\n",
      "Epoch 50/50\n",
      "\u001b[1m9766/9766\u001b[0m \u001b[32m━━━━━━━━━━━━━━━━━━━━\u001b[0m\u001b[37m\u001b[0m \u001b[1m102s\u001b[0m 10ms/step - loss: 0.5851 - root_mean_squared_error: 0.1886 - val_loss: 0.5866 - val_root_mean_squared_error: 0.1904\n"
     ]
    }
   ],
   "source": [
    "model = RecommenderNet(num_users, num_movie, 10) # inisialisasi model\n",
    " \n",
    "# model compile\n",
    "model.compile(\n",
    "    loss = tf.keras.losses.BinaryCrossentropy(),\n",
    "    optimizer = keras.optimizers.Adam(learning_rate=0.0001),\n",
    "    metrics=[tf.keras.metrics.RootMeanSquaredError()]\n",
    ")\n",
    "\n",
    "history = model.fit(\n",
    "    x_train,\n",
    "    y_train,\n",
    "    batch_size=2048,\n",
    "    epochs=50,\n",
    "    validation_data=(x_val, y_val),\n",
    ")"
   ]
  },
  {
   "cell_type": "markdown",
   "metadata": {},
   "source": [
    "#### Evaluasi Training"
   ]
  },
  {
   "cell_type": "code",
   "execution_count": 74,
   "metadata": {},
   "outputs": [
    {
     "data": {
      "image/png": "[encoded data removed]",
      "text/plain": [
       "<Figure size 640x480 with 1 Axes>"
      ]
     },
     "metadata": {},
     "output_type": "display_data"
    }
   ],
   "source": [
    "plt.plot(history.history['root_mean_squared_error'])\n",
    "plt.plot(history.history['val_root_mean_squared_error'])\n",
    "plt.title('model_metrics')\n",
    "plt.ylabel('root_mean_squared_error')\n",
    "plt.xlabel('epoch')\n",
    "plt.legend(['train', 'test'], loc='upper left')\n",
    "plt.show()"
   ]
  },
  {
   "cell_type": "markdown",
   "metadata": {},
   "source": [
    "Penurunan RMSE menunjukkan bahwa model secara progresif belajar untuk memprediksi rating dengan lebih akurat. Perbedaan yang minimal antara RMSE pelatihan dan validasi mengindikasikan bahwa model tidak mengalami overfitting yang signifikan dan mampu menggeneralisasi dengan baik pada data yang belum pernah dilihat sebelumnya. Nilai RMSE akhir (sekitar 0.32) relatif rendah dalam konteks skala rating 0-1, menunjukkan bahwa model memiliki kemampuan yang baik dalam memprediksi preferensi pengguna."
   ]
  },
  {
   "cell_type": "code",
   "execution_count": 75,
   "metadata": {},
   "outputs": [
    {
     "data": {
      "text/html": [
       "<div>\n",
       "<style scoped>\n",
       "    .dataframe tbody tr th:only-of-type {\n",
       "        vertical-align: middle;\n",
       "    }\n",
       "\n",
       "    .dataframe tbody tr th {\n",
       "        vertical-align: top;\n",
       "    }\n",
       "\n",
       "    .dataframe thead th {\n",
       "        text-align: right;\n",
       "    }\n",
       "</style>\n",
       "<table border=\"1\" class=\"dataframe\">\n",
       "  <thead>\n",
       "    <tr style=\"text-align: right;\">\n",
       "      <th></th>\n",
       "      <th>movieId</th>\n",
       "      <th>title</th>\n",
       "      <th>genres</th>\n",
       "    </tr>\n",
       "  </thead>\n",
       "  <tbody>\n",
       "    <tr>\n",
       "      <th>0</th>\n",
       "      <td>1</td>\n",
       "      <td>Toy Story (1995)</td>\n",
       "      <td>adventure animation children comedy fantasy</td>\n",
       "    </tr>\n",
       "    <tr>\n",
       "      <th>1</th>\n",
       "      <td>2</td>\n",
       "      <td>Jumanji (1995)</td>\n",
       "      <td>adventure children fantasy</td>\n",
       "    </tr>\n",
       "    <tr>\n",
       "      <th>2</th>\n",
       "      <td>3</td>\n",
       "      <td>Grumpier Old Men (1995)</td>\n",
       "      <td>comedy romance</td>\n",
       "    </tr>\n",
       "    <tr>\n",
       "      <th>3</th>\n",
       "      <td>4</td>\n",
       "      <td>Waiting to Exhale (1995)</td>\n",
       "      <td>comedy drama romance</td>\n",
       "    </tr>\n",
       "    <tr>\n",
       "      <th>4</th>\n",
       "      <td>5</td>\n",
       "      <td>Father of the Bride Part II (1995)</td>\n",
       "      <td>comedy</td>\n",
       "    </tr>\n",
       "    <tr>\n",
       "      <th>5</th>\n",
       "      <td>6</td>\n",
       "      <td>Heat (1995)</td>\n",
       "      <td>action crime thriller</td>\n",
       "    </tr>\n",
       "    <tr>\n",
       "      <th>6</th>\n",
       "      <td>7</td>\n",
       "      <td>Sabrina (1995)</td>\n",
       "      <td>comedy romance</td>\n",
       "    </tr>\n",
       "    <tr>\n",
       "      <th>7</th>\n",
       "      <td>8</td>\n",
       "      <td>Tom and Huck (1995)</td>\n",
       "      <td>adventure children</td>\n",
       "    </tr>\n",
       "    <tr>\n",
       "      <th>8</th>\n",
       "      <td>9</td>\n",
       "      <td>Sudden Death (1995)</td>\n",
       "      <td>action</td>\n",
       "    </tr>\n",
       "    <tr>\n",
       "      <th>9</th>\n",
       "      <td>10</td>\n",
       "      <td>GoldenEye (1995)</td>\n",
       "      <td>action adventure thriller</td>\n",
       "    </tr>\n",
       "  </tbody>\n",
       "</table>\n",
       "</div>"
      ],
      "text/plain": [
       "   movieId                               title  \\\n",
       "0        1                    Toy Story (1995)   \n",
       "1        2                      Jumanji (1995)   \n",
       "2        3             Grumpier Old Men (1995)   \n",
       "3        4            Waiting to Exhale (1995)   \n",
       "4        5  Father of the Bride Part II (1995)   \n",
       "5        6                         Heat (1995)   \n",
       "6        7                      Sabrina (1995)   \n",
       "7        8                 Tom and Huck (1995)   \n",
       "8        9                 Sudden Death (1995)   \n",
       "9       10                    GoldenEye (1995)   \n",
       "\n",
       "                                        genres  \n",
       "0  adventure animation children comedy fantasy  \n",
       "1                   adventure children fantasy  \n",
       "2                               comedy romance  \n",
       "3                         comedy drama romance  \n",
       "4                                       comedy  \n",
       "5                        action crime thriller  \n",
       "6                               comedy romance  \n",
       "7                           adventure children  \n",
       "8                                       action  \n",
       "9                    action adventure thriller  "
      ]
     },
     "execution_count": 75,
     "metadata": {},
     "output_type": "execute_result"
    }
   ],
   "source": [
    "movie.head(10)"
   ]
  },
  {
   "cell_type": "code",
   "execution_count": 76,
   "metadata": {},
   "outputs": [
    {
     "data": {
      "text/html": [
       "<div>\n",
       "<style scoped>\n",
       "    .dataframe tbody tr th:only-of-type {\n",
       "        vertical-align: middle;\n",
       "    }\n",
       "\n",
       "    .dataframe tbody tr th {\n",
       "        vertical-align: top;\n",
       "    }\n",
       "\n",
       "    .dataframe thead th {\n",
       "        text-align: right;\n",
       "    }\n",
       "</style>\n",
       "<table border=\"1\" class=\"dataframe\">\n",
       "  <thead>\n",
       "    <tr style=\"text-align: right;\">\n",
       "      <th></th>\n",
       "      <th>userId</th>\n",
       "      <th>movieId</th>\n",
       "      <th>rating</th>\n",
       "      <th>user</th>\n",
       "      <th>movie</th>\n",
       "    </tr>\n",
       "  </thead>\n",
       "  <tbody>\n",
       "    <tr>\n",
       "      <th>15347762</th>\n",
       "      <td>99476</td>\n",
       "      <td>104374</td>\n",
       "      <td>3.5</td>\n",
       "      <td>99475</td>\n",
       "      <td>3024</td>\n",
       "    </tr>\n",
       "    <tr>\n",
       "      <th>16647840</th>\n",
       "      <td>107979</td>\n",
       "      <td>2634</td>\n",
       "      <td>4.0</td>\n",
       "      <td>107978</td>\n",
       "      <td>9645</td>\n",
       "    </tr>\n",
       "    <tr>\n",
       "      <th>23915192</th>\n",
       "      <td>155372</td>\n",
       "      <td>1614</td>\n",
       "      <td>3.0</td>\n",
       "      <td>155371</td>\n",
       "      <td>1092</td>\n",
       "    </tr>\n",
       "    <tr>\n",
       "      <th>10052313</th>\n",
       "      <td>65225</td>\n",
       "      <td>7153</td>\n",
       "      <td>4.0</td>\n",
       "      <td>65224</td>\n",
       "      <td>227</td>\n",
       "    </tr>\n",
       "    <tr>\n",
       "      <th>12214125</th>\n",
       "      <td>79161</td>\n",
       "      <td>500</td>\n",
       "      <td>5.0</td>\n",
       "      <td>79160</td>\n",
       "      <td>964</td>\n",
       "    </tr>\n",
       "  </tbody>\n",
       "</table>\n",
       "</div>"
      ],
      "text/plain": [
       "          userId  movieId  rating    user  movie\n",
       "15347762   99476   104374     3.5   99475   3024\n",
       "16647840  107979     2634     4.0  107978   9645\n",
       "23915192  155372     1614     3.0  155371   1092\n",
       "10052313   65225     7153     4.0   65224    227\n",
       "12214125   79161      500     5.0   79160    964"
      ]
     },
     "execution_count": 76,
     "metadata": {},
     "output_type": "execute_result"
    }
   ],
   "source": [
    "rating_clean.head()"
   ]
  },
  {
   "cell_type": "markdown",
   "metadata": {},
   "source": [
    "#### Mekanisme Rekomendasi (Top-N Recommendation)\n",
    "\n",
    "Setelah model terlatih, untuk pengguna tertentu, sistem mengidentifikasi film-film yang belum ditonton. Kemudian, model memprediksi rating untuk film-film tersebut. Film dengan prediksi rating tertinggi dipilih sebagai rekomendasi (Top-15, lalu diambil Top-10)."
   ]
  },
  {
   "cell_type": "code",
   "execution_count": 78,
   "metadata": {},
   "outputs": [
    {
     "name": "stdout",
     "output_type": "stream",
     "text": [
      "\u001b[1m1829/1829\u001b[0m \u001b[32m━━━━━━━━━━━━━━━━━━━━\u001b[0m\u001b[37m\u001b[0m \u001b[1m0s\u001b[0m 262us/step\n",
      "Showing recommendation for users: 75595\n",
      "===========================\n",
      "Movie with high ratings from user\n",
      "--------------------------------\n",
      "Apollo 13 (1995) : adventure drama imax\n",
      "Shawshank Redemption, The (1994) : crime drama\n",
      "Eternal Sunshine of the Spotless Mind (2004) : drama romance sci-fi\n",
      "Dark Knight, The (2008) : action crime drama imax\n",
      "Inception (2010) : action crime drama mystery sci-fi thriller imax\n",
      "--------------------------------\n",
      "Top 10 movie recommendations\n",
      "--------------------------------\n",
      "Seven Samurai (Shichinin no samurai) (1954) : action adventure drama\n",
      "High and Low (Tengoku to jigoku) (1963) : crime drama film-noir thriller\n",
      "Harakiri (Seppuku) (1962) : drama\n",
      "Century of the Self, The (2002) : documentary\n",
      "Story of Film: An Odyssey, The (2011) : documentary\n",
      "The Roosevelts: An Intimate History (2014) : documentary\n",
      "It's Such a Beautiful Day (2011) : animation comedy drama\n",
      "Planet Earth (2006) : documentary\n",
      "Life (2009) : documentary\n",
      "Over the Garden Wall (2013) : adventure animation drama\n",
      "Band of Brothers (2001) : action drama war\n",
      "Cosmos : (no genres listed)\n",
      "Blue Planet II (2017) : documentary\n",
      "Rabbit of Seville (1950) : animation comedy\n",
      "Twin Peaks (1989) : drama mystery\n"
     ]
    }
   ],
   "source": [
    "user_id = rating_clean.userId.sample(1).iloc[0]\n",
    "movie_watched_by_user = rating_clean[rating_clean.userId == user_id]\n",
    "\n",
    "movie_not_watched = movie[~movie['movieId'].isin(movie_watched_by_user.movieId.values)]['movieId']\n",
    "movie_not_watched = list(\n",
    "    set(movie_not_watched).intersection(set(movie_to_movie_encoded.keys()))\n",
    ")\n",
    "\n",
    "movie_not_watched = [[movie_to_movie_encoded.get(x)] for x in movie_not_watched]\n",
    "user_encoded = user_to_user_encoded.get(user_id)\n",
    "user_movie_array = np.hstack(\n",
    "    ([[user_encoded]]*len(movie_not_watched), movie_not_watched)\n",
    ")\n",
    "\n",
    "ratings = model.predict(user_movie_array).flatten()\n",
    "top_ratings_indices = ratings.argsort()[-15:][::-1]\n",
    "recommended_movie_ids = [\n",
    "    movie_encoded_to_movie.get(movie_not_watched[x][0]) for x in top_ratings_indices\n",
    "]\n",
    "\n",
    "print('Showing recommendation for users: {}'.format(user_id))\n",
    "print('==='*9)\n",
    "print('Movie with high ratings from user')\n",
    "print('----'*8)\n",
    "\n",
    "top_movie_user = (\n",
    "    movie_watched_by_user.sort_values(\n",
    "        by = 'rating',\n",
    "        ascending = False\n",
    "    )\n",
    "    .head(5)\n",
    "    .movieId.values\n",
    ")\n",
    "\n",
    "movie_df_rows = movie[movie['movieId'].isin(top_movie_user)]\n",
    "for row in movie_df_rows.itertuples():\n",
    "    print(row.title, ':', row.genres)\n",
    "\n",
    "print('----'*8)\n",
    "print('Top 10 movie recommendations')\n",
    "print('----'*8)\n",
    "\n",
    "recommended_movie = movie[movie['movieId'].isin(recommended_movie_ids)]\n",
    "for row in recommended_movie.itertuples():\n",
    "    print(row.title, ':', row.genres)"
   ]
  },
  {
   "cell_type": "markdown",
   "metadata": {},
   "source": [
    "Dari output diatas dapat diobservasi bahwasannya untuk user tersebut, sistem rekomendasi dapat memberikan rekomendasi yang sesuai dengan minat dari user, seperti misalnya user menyukai genre adventure, drama, dan imax pada urutan pertama seleranya, lalu kemudian direkomendasikan oleh model film-film dengan genre sejenis pada Top-10 rekomendasi, walaupun tidak sama persis namun secara garis besar genre dari film yang direkomendasikan masuk ke dalam selera dari user tersebut."
   ]
  },
  {
   "cell_type": "markdown",
   "metadata": {},
   "source": [
    "## Conclusion\n",
    "\n",
    "Proyek ini telah berhasil mengimplementasikan dua pendekatan utama dalam sistem rekomendasi film, secara langsung menjawab pernyataan masalah yang diajukan.\n",
    "\n",
    "1. **Implementasi Sistem Rekomendasi Film Berbasis Konten (Content-Based Filtering) telah berhasil dilakukan untuk secara efektif merekomendasikan film kepada pengguna berdasarkan preferensi mereka terhadap atribut film (genre).**\n",
    "\n",
    "Melalui penggunaan TF-IDF Vectorizer untuk merepresentasikan genre film dan Cosine Similarity untuk mengukur kemiripan, sistem mampu mengidentifikasi dan merekomendasikan film-film yang memiliki karakteristik konten serupa dengan preferensi pengguna. Output rekomendasi menunjukkan konsistensi yang tinggi dalam hal genre dengan film input, membuktikan efektivitas pendekatan ini dalam menyediakan rekomendasi yang relevan secara kontekstual.\n",
    "\n",
    "\n",
    "2. **Implementasi Sistem Rekomendasi Film Berbasis Kolaboratif (Collaborative Filtering) telah berhasil dilakukan untuk secara akurat memprediksi preferensi pengguna dan merekomendasikan film berdasarkan pola perilaku pengguna lain yang serupa.**\n",
    "\n",
    "Dengan membangun dan melatih model Neural Network (RecommenderNet) menggunakan data rating pengguna, proyek ini menunjukkan kemampuan model untuk belajar pola preferensi yang kompleks. Penurunan signifikan pada metrik Root Mean Squared Error (RMSE) selama pelatihan mengindikasikan bahwa model dapat memprediksi rating film dengan akurasi yang baik. Hasil ini memungkinkan sistem untuk merekomendasikan film yang belum ditonton pengguna dengan potensi rating tertinggi, berdasarkan kesamaan perilaku dengan pengguna lain.\n",
    "\n",
    "Secara keseluruhan, proyek ini berhasil menunjukkan kelayakan dan efektivitas implementasi kedua jenis sistem rekomendasi (content-based dan collaborative) pada dataset film, memberikan landasan yang kuat untuk pengembangan sistem rekomendasi yang lebih canggih di masa mendatang."
   ]
  }
 ],
 "metadata": {
  "kernelspec": {
   "display_name": "Python 3 (ipykernel)",
   "language": "python",
   "name": "python3"
  },
  "language_info": {
   "codemirror_mode": {
    "name": "ipython",
    "version": 3
   },
   "file_extension": ".py",
   "mimetype": "text/x-python",
   "name": "python",
   "nbconvert_exporter": "python",
   "pygments_lexer": "ipython3",
   "version": "3.11.5"
  }
 },
 "nbformat": 4,
 "nbformat_minor": 2
}
